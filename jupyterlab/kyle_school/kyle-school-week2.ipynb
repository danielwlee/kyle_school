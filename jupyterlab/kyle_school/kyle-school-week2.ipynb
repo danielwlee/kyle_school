{
 "cells": [
  {
   "cell_type": "code",
   "execution_count": 8,
   "id": "6360169c-a9f0-4dcf-bdd7-38edc3b3f20a",
   "metadata": {
    "tags": []
   },
   "outputs": [],
   "source": [
    "project_id = 'possible-helix-330610'"
   ]
  },
  {
   "cell_type": "code",
   "execution_count": 9,
   "id": "32968300-a6f7-4b65-9d08-41988e42212b",
   "metadata": {},
   "outputs": [
    {
     "name": "stdout",
     "output_type": "stream",
     "text": [
      "Please visit this URL to authorize this application: https://accounts.google.com/o/oauth2/auth?response_type=code&client_id=725825577420-unm2gnkiprugilg743tkbig250f4sfsj.apps.googleusercontent.com&redirect_uri=http%3A%2F%2Flocalhost%3A8080%2F&scope=https%3A%2F%2Fwww.googleapis.com%2Fauth%2Fbigquery&state=BgOHrZlvb55896mxpBhFOt0zqDxwml&access_type=offline\n"
     ]
    }
   ],
   "source": [
    "import pandas as pd\n",
    "import numpy as np\n",
    "\n",
    "query = \"\"\"\n",
    "SELECT \n",
    "    DATETIME_TRUNC(pickup_datetime, hour) as pickup_hour,\n",
    "    count(*) as cnt\n",
    "FROM `bigquery-public-data.new_york_taxi_trips.tlc_yellow_trips_2015` \n",
    "WHERE EXTRACT(MONTH from pickup_datetime) = 1\n",
    "GROUP BY pickup_hour\n",
    "ORDER BY pickup_hour\n",
    "\"\"\"\n",
    "\n",
    "df = pd.read_gbq(query=query, dialect='standard', \n",
    "                 project_id=project_id,\n",
    "                 reauth=True,\n",
    "                 auth_local_webserver=True)"
   ]
  },
  {
   "cell_type": "code",
   "execution_count": 10,
   "id": "5821c2d0-d97e-48d3-9a27-85f4b64e8139",
   "metadata": {},
   "outputs": [
    {
     "data": {
      "text/html": [
       "<div>\n",
       "<style scoped>\n",
       "    .dataframe tbody tr th:only-of-type {\n",
       "        vertical-align: middle;\n",
       "    }\n",
       "\n",
       "    .dataframe tbody tr th {\n",
       "        vertical-align: top;\n",
       "    }\n",
       "\n",
       "    .dataframe thead th {\n",
       "        text-align: right;\n",
       "    }\n",
       "</style>\n",
       "<table border=\"1\" class=\"dataframe\">\n",
       "  <thead>\n",
       "    <tr style=\"text-align: right;\">\n",
       "      <th></th>\n",
       "      <th>pickup_hour</th>\n",
       "      <th>cnt</th>\n",
       "    </tr>\n",
       "  </thead>\n",
       "  <tbody>\n",
       "    <tr>\n",
       "      <th>734</th>\n",
       "      <td>2015-01-31 14:00:00</td>\n",
       "      <td>25059</td>\n",
       "    </tr>\n",
       "    <tr>\n",
       "      <th>735</th>\n",
       "      <td>2015-01-31 15:00:00</td>\n",
       "      <td>25886</td>\n",
       "    </tr>\n",
       "    <tr>\n",
       "      <th>736</th>\n",
       "      <td>2015-01-31 16:00:00</td>\n",
       "      <td>23822</td>\n",
       "    </tr>\n",
       "    <tr>\n",
       "      <th>737</th>\n",
       "      <td>2015-01-31 17:00:00</td>\n",
       "      <td>25794</td>\n",
       "    </tr>\n",
       "    <tr>\n",
       "      <th>738</th>\n",
       "      <td>2015-01-31 18:00:00</td>\n",
       "      <td>30804</td>\n",
       "    </tr>\n",
       "    <tr>\n",
       "      <th>739</th>\n",
       "      <td>2015-01-31 19:00:00</td>\n",
       "      <td>32436</td>\n",
       "    </tr>\n",
       "    <tr>\n",
       "      <th>740</th>\n",
       "      <td>2015-01-31 20:00:00</td>\n",
       "      <td>27555</td>\n",
       "    </tr>\n",
       "    <tr>\n",
       "      <th>741</th>\n",
       "      <td>2015-01-31 21:00:00</td>\n",
       "      <td>27477</td>\n",
       "    </tr>\n",
       "    <tr>\n",
       "      <th>742</th>\n",
       "      <td>2015-01-31 22:00:00</td>\n",
       "      <td>29862</td>\n",
       "    </tr>\n",
       "    <tr>\n",
       "      <th>743</th>\n",
       "      <td>2015-01-31 23:00:00</td>\n",
       "      <td>29856</td>\n",
       "    </tr>\n",
       "  </tbody>\n",
       "</table>\n",
       "</div>"
      ],
      "text/plain": [
       "            pickup_hour    cnt\n",
       "734 2015-01-31 14:00:00  25059\n",
       "735 2015-01-31 15:00:00  25886\n",
       "736 2015-01-31 16:00:00  23822\n",
       "737 2015-01-31 17:00:00  25794\n",
       "738 2015-01-31 18:00:00  30804\n",
       "739 2015-01-31 19:00:00  32436\n",
       "740 2015-01-31 20:00:00  27555\n",
       "741 2015-01-31 21:00:00  27477\n",
       "742 2015-01-31 22:00:00  29862\n",
       "743 2015-01-31 23:00:00  29856"
      ]
     },
     "execution_count": 10,
     "metadata": {},
     "output_type": "execute_result"
    }
   ],
   "source": [
    "df.tail(10)"
   ]
  },
  {
   "cell_type": "code",
   "execution_count": 17,
   "id": "0ffc2438-29a3-4eec-bc57-6d96fc76dc7c",
   "metadata": {},
   "outputs": [
    {
     "name": "stdout",
     "output_type": "stream",
     "text": [
      "<class 'pandas.core.frame.DataFrame'>\n",
      "RangeIndex: 744 entries, 0 to 743\n",
      "Data columns (total 2 columns):\n",
      " #   Column       Non-Null Count  Dtype         \n",
      "---  ------       --------------  -----         \n",
      " 0   pickup_hour  744 non-null    datetime64[ns]\n",
      " 1   cnt          744 non-null    int64         \n",
      "dtypes: datetime64[ns](1), int64(1)\n",
      "memory usage: 11.8 KB\n"
     ]
    }
   ],
   "source": [
    "df.info # prints the type of columns and memory usage"
   ]
  },
  {
   "cell_type": "markdown",
   "id": "5ffb6a05-63de-4ea2-a1c6-2be7233c625f",
   "metadata": {},
   "source": [
    "### Optimizing the Pandas:\n",
    "- Memory optimization\n",
    "- Enhancing performance\n",
    "- Adopting convention\n",
    "\n",
    "int 32 is better than int 64 in terms of memory usage.\n",
    "\n",
    "https://drive.google.com/file/d/12faqaslFIF-Sg_sU3jeGyauW5ClRqS8D/view\n",
    "\n",
    "https://rfriend.tistory.com/285\n",
    "\n",
    "category > object in terms of speed"
   ]
  },
  {
   "cell_type": "code",
   "execution_count": 11,
   "id": "bc5b0dac-b677-4565-8edc-8a5c8bd81d87",
   "metadata": {},
   "outputs": [],
   "source": [
    "def reduce_mem_usage(df):\n",
    "    \"\"\" \n",
    "    iterate through all the columns of a dataframe and \n",
    "    modify the data type to reduce memory usage.        \n",
    "    \"\"\"\n",
    "    start_mem = df.memory_usage().sum() / 1024**2\n",
    "    print(f'Memory usage of dataframe is {start_mem:.2f}MB')\n",
    "    \n",
    "    for col in df.columns:\n",
    "        col_type = df[col].dtype\n",
    "        \n",
    "        if col_type != object:\n",
    "            c_min = df[col].min()\n",
    "            c_max = df[col].max()\n",
    "            if str(col_type)[:3] == 'int':\n",
    "                if c_min > np.iinfo(np.int8).min and c_max <\\\n",
    "                  np.iinfo(np.int8).max:\n",
    "                    df[col] = df[col].astype(np.int8)\n",
    "                elif c_min > np.iinfo(np.int16).min and c_max <\\\n",
    "                   np.iinfo(np.int16).max:\n",
    "                    df[col] = df[col].astype(np.int16)\n",
    "                elif c_min > np.iinfo(np.int32).min and c_max <\\\n",
    "                   np.iinfo(np.int32).max:\n",
    "                    df[col] = df[col].astype(np.int32)\n",
    "                elif c_min > np.iinfo(np.int64).min and c_max <\\\n",
    "                   np.iinfo(np.int64).max:\n",
    "                    df[col] = df[col].astype(np.int64)  \n",
    "            elif str(col_type)[:5] == 'float':\n",
    "                if c_min > np.finfo(np.float16).min and c_max <\\\n",
    "                   np.finfo(np.float16).max:\n",
    "                    df[col] = df[col].astype(np.float16)\n",
    "                elif c_min > np.finfo(np.float32).min and c_max <\\\n",
    "                   np.finfo(np.float32).max:\n",
    "                    df[col] = df[col].astype(np.float32)\n",
    "                else:\n",
    "                    df[col] = df[col].astype(np.float64)\n",
    "            else:\n",
    "                pass\n",
    "        else:\n",
    "            df[col] = df[col].astype('category')\n",
    "    end_mem = df.memory_usage().sum() / 1024**2\n",
    "    print(f'Memory usage after optimization is: {end_mem:.2f}MB')\n",
    "    print(f'Decreased by {100*((start_mem - end_mem)/start_mem):.1f}%')\n",
    "    \n",
    "    return df"
   ]
  },
  {
   "cell_type": "code",
   "execution_count": 12,
   "id": "64ed31ef-59d6-45c8-a17f-7a935c433310",
   "metadata": {},
   "outputs": [
    {
     "name": "stdout",
     "output_type": "stream",
     "text": [
      "Memory usage of dataframe is 0.01MB\n",
      "Memory usage after optimization is: 0.01MB\n",
      "Decreased by 24.7%\n"
     ]
    }
   ],
   "source": [
    "new_df = reduce_mem_usage(df)"
   ]
  },
  {
   "cell_type": "code",
   "execution_count": 13,
   "id": "7654f26d-bef7-41f6-b5a3-0144a7d5027b",
   "metadata": {},
   "outputs": [
    {
     "name": "stdout",
     "output_type": "stream",
     "text": [
      "<class 'pandas.core.frame.DataFrame'>\n",
      "RangeIndex: 744 entries, 0 to 743\n",
      "Data columns (total 2 columns):\n",
      " #   Column       Non-Null Count  Dtype         \n",
      "---  ------       --------------  -----         \n",
      " 0   pickup_hour  744 non-null    datetime64[ns]\n",
      " 1   cnt          744 non-null    int32         \n",
      "dtypes: datetime64[ns](1), int32(1)\n",
      "memory usage: 8.8 KB\n"
     ]
    }
   ],
   "source": [
    "new_df.info()\n",
    "# 11.7KB -> 8.8KB"
   ]
  },
  {
   "cell_type": "code",
   "execution_count": 14,
   "id": "45bb4771-0776-40d0-beea-a59bf02bb10a",
   "metadata": {},
   "outputs": [
    {
     "data": {
      "text/plain": [
       "2015-01-01 00:00:00    1\n",
       "2015-01-21 19:00:00    1\n",
       "2015-01-21 10:00:00    1\n",
       "2015-01-21 11:00:00    1\n",
       "2015-01-21 12:00:00    1\n",
       "                      ..\n",
       "2015-01-11 10:00:00    1\n",
       "2015-01-11 11:00:00    1\n",
       "2015-01-11 12:00:00    1\n",
       "2015-01-11 13:00:00    1\n",
       "2015-01-31 23:00:00    1\n",
       "Name: pickup_hour, Length: 744, dtype: int64"
      ]
     },
     "execution_count": 14,
     "metadata": {},
     "output_type": "execute_result"
    }
   ],
   "source": [
    "# count instances of each column\n",
    "new_df['pickup_hour'].value_counts()"
   ]
  },
  {
   "cell_type": "code",
   "execution_count": null,
   "id": "65d65a8e-2e33-44b4-8da3-7ef601b674f4",
   "metadata": {},
   "outputs": [
    {
     "data": {
      "text/plain": [
       "<pandas.core.indexes.accessors.DatetimeProperties object at 0x000001AF22B0CD60>"
      ]
     },
     "execution_count": 15,
     "metadata": {},
     "output_type": "execute_result"
    }
   ],
   "source": [
    "# DATETIME EXTRACT\n",
    "new_df['pickup_hour'].dt"
   ]
  },
  {
   "cell_type": "code",
   "execution_count": null,
   "id": "4a20637c-5ebf-4757-8902-c962e4ea7340",
   "metadata": {},
   "outputs": [],
   "source": [
    "new_df['year'] = new_df['pickup_hour'].dt.year\n",
    "new_df['month'] = new_df['pickup_hour'].dt.month\n",
    "new_df['day'] = new_df['pickup_hour'].dt.day\n",
    "new_df['hour'] = new_df['pickup_hour'].dt.hour\n",
    "new_df['weekday'] = new_df['pickup_hour'].dt.weekday"
   ]
  },
  {
   "cell_type": "code",
   "execution_count": null,
   "id": "89483eda-f99a-49ef-8bec-5bb62b61c1f1",
   "metadata": {},
   "outputs": [
    {
     "data": {
      "text/html": [
       "<div>\n",
       "<style scoped>\n",
       "    .dataframe tbody tr th:only-of-type {\n",
       "        vertical-align: middle;\n",
       "    }\n",
       "\n",
       "    .dataframe tbody tr th {\n",
       "        vertical-align: top;\n",
       "    }\n",
       "\n",
       "    .dataframe thead th {\n",
       "        text-align: right;\n",
       "    }\n",
       "</style>\n",
       "<table border=\"1\" class=\"dataframe\">\n",
       "  <thead>\n",
       "    <tr style=\"text-align: right;\">\n",
       "      <th></th>\n",
       "      <th>pickup_hour</th>\n",
       "      <th>cnt</th>\n",
       "      <th>year</th>\n",
       "      <th>month</th>\n",
       "      <th>day</th>\n",
       "      <th>hour</th>\n",
       "      <th>weekday</th>\n",
       "    </tr>\n",
       "  </thead>\n",
       "  <tbody>\n",
       "    <tr>\n",
       "      <th>0</th>\n",
       "      <td>2015-01-01 00:00:00</td>\n",
       "      <td>28312</td>\n",
       "      <td>2015</td>\n",
       "      <td>1</td>\n",
       "      <td>1</td>\n",
       "      <td>0</td>\n",
       "      <td>3</td>\n",
       "    </tr>\n",
       "    <tr>\n",
       "      <th>1</th>\n",
       "      <td>2015-01-01 01:00:00</td>\n",
       "      <td>31707</td>\n",
       "      <td>2015</td>\n",
       "      <td>1</td>\n",
       "      <td>1</td>\n",
       "      <td>1</td>\n",
       "      <td>3</td>\n",
       "    </tr>\n",
       "    <tr>\n",
       "      <th>2</th>\n",
       "      <td>2015-01-01 02:00:00</td>\n",
       "      <td>28068</td>\n",
       "      <td>2015</td>\n",
       "      <td>1</td>\n",
       "      <td>1</td>\n",
       "      <td>2</td>\n",
       "      <td>3</td>\n",
       "    </tr>\n",
       "    <tr>\n",
       "      <th>3</th>\n",
       "      <td>2015-01-01 03:00:00</td>\n",
       "      <td>24288</td>\n",
       "      <td>2015</td>\n",
       "      <td>1</td>\n",
       "      <td>1</td>\n",
       "      <td>3</td>\n",
       "      <td>3</td>\n",
       "    </tr>\n",
       "    <tr>\n",
       "      <th>4</th>\n",
       "      <td>2015-01-01 04:00:00</td>\n",
       "      <td>17081</td>\n",
       "      <td>2015</td>\n",
       "      <td>1</td>\n",
       "      <td>1</td>\n",
       "      <td>4</td>\n",
       "      <td>3</td>\n",
       "    </tr>\n",
       "  </tbody>\n",
       "</table>\n",
       "</div>"
      ],
      "text/plain": [
       "          pickup_hour    cnt  year  month  day  hour  weekday\n",
       "0 2015-01-01 00:00:00  28312  2015      1    1     0        3\n",
       "1 2015-01-01 01:00:00  31707  2015      1    1     1        3\n",
       "2 2015-01-01 02:00:00  28068  2015      1    1     2        3\n",
       "3 2015-01-01 03:00:00  24288  2015      1    1     3        3\n",
       "4 2015-01-01 04:00:00  17081  2015      1    1     4        3"
      ]
     },
     "execution_count": 17,
     "metadata": {},
     "output_type": "execute_result"
    }
   ],
   "source": [
    "new_df.head()"
   ]
  },
  {
   "cell_type": "markdown",
   "id": "b64e7351-6530-4cd6-ae66-981c14e6a1ee",
   "metadata": {},
   "source": [
    "#### Comparing different extraction methods\n",
    "\n",
    "https://www.listendata.com/2019/07/how-to-filter-pandas-dataframe.html"
   ]
  },
  {
   "cell_type": "code",
   "execution_count": 60,
   "id": "740807b0-1620-4dcf-b774-79720e0e370c",
   "metadata": {},
   "outputs": [
    {
     "name": "stdout",
     "output_type": "stream",
     "text": [
      "4.65 ms ± 76.5 µs per loop (mean ± std. dev. of 7 runs, 100 loops each)\n"
     ]
    }
   ],
   "source": [
    "%%timeit 100\n",
    "new_df[new_df['month'] == 1][new_df['day'] == 10][new_df['hour']==10]"
   ]
  },
  {
   "cell_type": "code",
   "execution_count": 65,
   "id": "0009d70d-781f-4251-bf75-49dd2162f865",
   "metadata": {},
   "outputs": [
    {
     "name": "stdout",
     "output_type": "stream",
     "text": [
      "2.53 ms ± 135 µs per loop (mean ± std. dev. of 7 runs, 100 loops each)\n"
     ]
    }
   ],
   "source": [
    "%%timeit 100\n",
    "new_df[(new_df['month'] == 1) & (new_df['day']==10) & (new_df['hour']==10)]"
   ]
  },
  {
   "cell_type": "code",
   "execution_count": 62,
   "id": "7c39e6e8-2312-4d1e-a43d-6893dd2d8ef2",
   "metadata": {},
   "outputs": [
    {
     "name": "stdout",
     "output_type": "stream",
     "text": [
      "2.8 ms ± 260 µs per loop (mean ± std. dev. of 7 runs, 100 loops each)\n"
     ]
    }
   ],
   "source": [
    "%%timeit 100\n",
    "new_df.loc[(new_df['month'] == 1) & (new_df['day'] == 10) & (new_df['hour'] == 10)]"
   ]
  },
  {
   "cell_type": "code",
   "execution_count": 66,
   "id": "c35b1816-5232-4431-82b9-0f0b3efba04e",
   "metadata": {},
   "outputs": [
    {
     "name": "stdout",
     "output_type": "stream",
     "text": [
      "6.88 ms ± 273 µs per loop (mean ± std. dev. of 7 runs, 100 loops each)\n"
     ]
    }
   ],
   "source": [
    "%%timeit 100\n",
    "new_df.query('month == 1 & day == 10 & hour == 10')"
   ]
  },
  {
   "cell_type": "markdown",
   "id": "064d8a0b-280e-45e7-8292-5e54d22392f2",
   "metadata": {},
   "source": [
    "### Pivot Table\n",
    "\n",
    "#### Reshaping and pivot tables\n",
    "\n",
    "##### Reshaping by pivoting DataFrame objects\n",
    "\n",
    "https://pandas.pydata.org/pandas-docs/stable/user_guide/reshaping.html\n",
    "\n",
    "pivot이 있고 pivot_table이 있음.\n",
    "pivot_table이 더 high level.\n",
    "groupby와 unstack을 사용해도 동일한 결과를 얻을 수 있음.\n",
    "\n",
    "pivot_table은 위 결과에서 aggfunc(집계)를 진행\n",
    "\n",
    "generate an identical pivot table using different methods"
   ]
  },
  {
   "cell_type": "code",
   "execution_count": 78,
   "id": "341587fc-41d5-4798-b70d-d88857139b41",
   "metadata": {},
   "outputs": [
    {
     "name": "stdout",
     "output_type": "stream",
     "text": [
      "18.1 ms ± 133 µs per loop (mean ± std. dev. of 7 runs, 10 loops each)\n"
     ]
    }
   ],
   "source": [
    "%%timeit\n",
    "df.pivot_table('cnt', index='hour', columns='weekday', aggfunc='mean').head()"
   ]
  },
  {
   "cell_type": "code",
   "execution_count": 84,
   "id": "4826f034-0b56-446c-8c2c-c189491d1daf",
   "metadata": {},
   "outputs": [
    {
     "name": "stdout",
     "output_type": "stream",
     "text": [
      "3.62 ms ± 231 µs per loop (mean ± std. dev. of 7 runs, 10 loops each)\n"
     ]
    }
   ],
   "source": [
    "%%timeit\n",
    "df.groupby(['hour', 'weekday'])['cnt'].mean().unstack().head()"
   ]
  },
  {
   "cell_type": "markdown",
   "id": "4daafca9-4e67-45a3-8a32-5960231b9f92",
   "metadata": {},
   "source": [
    "##### groupby is much faster!"
   ]
  },
  {
   "cell_type": "markdown",
   "id": "29cc7f26-7a9c-4821-aa1c-d46bc06fb664",
   "metadata": {},
   "source": [
    "### 날짜 더미 데이터 생성하기\n",
    "pd.date_range() 사용"
   ]
  },
  {
   "cell_type": "code",
   "execution_count": null,
   "id": "087501b6-31f2-4706-a635-71787390c7da",
   "metadata": {},
   "outputs": [
    {
     "data": {
      "text/plain": [
       "DatetimeIndex(['2021-01-01 00:00:00', '2021-01-01 01:00:00',\n",
       "               '2021-01-01 02:00:00', '2021-01-01 03:00:00',\n",
       "               '2021-01-01 04:00:00', '2021-01-01 05:00:00',\n",
       "               '2021-01-01 06:00:00', '2021-01-01 07:00:00',\n",
       "               '2021-01-01 08:00:00', '2021-01-01 09:00:00',\n",
       "               ...\n",
       "               '2021-12-31 15:00:00', '2021-12-31 16:00:00',\n",
       "               '2021-12-31 17:00:00', '2021-12-31 18:00:00',\n",
       "               '2021-12-31 19:00:00', '2021-12-31 20:00:00',\n",
       "               '2021-12-31 21:00:00', '2021-12-31 22:00:00',\n",
       "               '2021-12-31 23:00:00', '2022-01-01 00:00:00'],\n",
       "              dtype='datetime64[ns]', length=8761, freq='H')"
      ]
     },
     "execution_count": 88,
     "metadata": {},
     "output_type": "execute_result"
    }
   ],
   "source": [
    "pd.date_range(start='2021-01-01', end='2022-01-01', freq='1H')"
   ]
  },
  {
   "cell_type": "code",
   "execution_count": 89,
   "id": "419dddc5-ea09-4864-8b77-078dbba5ae9b",
   "metadata": {},
   "outputs": [
    {
     "data": {
      "text/plain": [
       "DatetimeIndex(['2021-01-01', '2021-01-02', '2021-01-03', '2021-01-04',\n",
       "               '2021-01-05', '2021-01-06', '2021-01-07', '2021-01-08',\n",
       "               '2021-01-09', '2021-01-10',\n",
       "               ...\n",
       "               '2021-12-23', '2021-12-24', '2021-12-25', '2021-12-26',\n",
       "               '2021-12-27', '2021-12-28', '2021-12-29', '2021-12-30',\n",
       "               '2021-12-31', '2022-01-01'],\n",
       "              dtype='datetime64[ns]', length=366, freq='D')"
      ]
     },
     "execution_count": 89,
     "metadata": {},
     "output_type": "execute_result"
    }
   ],
   "source": [
    "pd.date_range(start='2021-01-01', end='2022-01-01', freq='1D')"
   ]
  },
  {
   "cell_type": "markdown",
   "id": "a38aed25-7896-436c-b1fd-393264edacd0",
   "metadata": {},
   "source": [
    "### String Value에 특정 단어가 포함되는지\n",
    "df['col_name'].str.contains 사용"
   ]
  },
  {
   "cell_type": "code",
   "execution_count": 18,
   "id": "06ea9fad-54ed-4bfc-94c5-bb53fdaebf41",
   "metadata": {},
   "outputs": [
    {
     "data": {
      "text/html": [
       "<div>\n",
       "<style scoped>\n",
       "    .dataframe tbody tr th:only-of-type {\n",
       "        vertical-align: middle;\n",
       "    }\n",
       "\n",
       "    .dataframe tbody tr th {\n",
       "        vertical-align: top;\n",
       "    }\n",
       "\n",
       "    .dataframe thead th {\n",
       "        text-align: right;\n",
       "    }\n",
       "</style>\n",
       "<table border=\"1\" class=\"dataframe\">\n",
       "  <thead>\n",
       "    <tr style=\"text-align: right;\">\n",
       "      <th></th>\n",
       "      <th>pickup_hour</th>\n",
       "      <th>cnt</th>\n",
       "      <th>year</th>\n",
       "      <th>month</th>\n",
       "      <th>day</th>\n",
       "      <th>hour</th>\n",
       "      <th>weekday</th>\n",
       "      <th>string_hour</th>\n",
       "    </tr>\n",
       "  </thead>\n",
       "  <tbody>\n",
       "    <tr>\n",
       "      <th>10</th>\n",
       "      <td>2015-01-01 10:00:00</td>\n",
       "      <td>9949</td>\n",
       "      <td>2015</td>\n",
       "      <td>1</td>\n",
       "      <td>1</td>\n",
       "      <td>10</td>\n",
       "      <td>3</td>\n",
       "      <td>10</td>\n",
       "    </tr>\n",
       "    <tr>\n",
       "      <th>11</th>\n",
       "      <td>2015-01-01 11:00:00</td>\n",
       "      <td>13870</td>\n",
       "      <td>2015</td>\n",
       "      <td>1</td>\n",
       "      <td>1</td>\n",
       "      <td>11</td>\n",
       "      <td>3</td>\n",
       "      <td>11</td>\n",
       "    </tr>\n",
       "    <tr>\n",
       "      <th>34</th>\n",
       "      <td>2015-01-02 10:00:00</td>\n",
       "      <td>15243</td>\n",
       "      <td>2015</td>\n",
       "      <td>1</td>\n",
       "      <td>2</td>\n",
       "      <td>10</td>\n",
       "      <td>4</td>\n",
       "      <td>10</td>\n",
       "    </tr>\n",
       "    <tr>\n",
       "      <th>35</th>\n",
       "      <td>2015-01-02 11:00:00</td>\n",
       "      <td>16999</td>\n",
       "      <td>2015</td>\n",
       "      <td>1</td>\n",
       "      <td>2</td>\n",
       "      <td>11</td>\n",
       "      <td>4</td>\n",
       "      <td>11</td>\n",
       "    </tr>\n",
       "    <tr>\n",
       "      <th>58</th>\n",
       "      <td>2015-01-03 10:00:00</td>\n",
       "      <td>14975</td>\n",
       "      <td>2015</td>\n",
       "      <td>1</td>\n",
       "      <td>3</td>\n",
       "      <td>10</td>\n",
       "      <td>5</td>\n",
       "      <td>10</td>\n",
       "    </tr>\n",
       "  </tbody>\n",
       "</table>\n",
       "</div>"
      ],
      "text/plain": [
       "           pickup_hour    cnt  year  month  day  hour  weekday string_hour\n",
       "10 2015-01-01 10:00:00   9949  2015      1    1    10        3          10\n",
       "11 2015-01-01 11:00:00  13870  2015      1    1    11        3          11\n",
       "34 2015-01-02 10:00:00  15243  2015      1    2    10        4          10\n",
       "35 2015-01-02 11:00:00  16999  2015      1    2    11        4          11\n",
       "58 2015-01-03 10:00:00  14975  2015      1    3    10        5          10"
      ]
     },
     "execution_count": 18,
     "metadata": {},
     "output_type": "execute_result"
    }
   ],
   "source": [
    "# 이번 데이터셋엔 str 값이 없으므로 hour를 임시로 str로 바꾸고\n",
    "new_df['string_hour'] = new_df['hour'].astype(str)\n",
    "\n",
    "# 여러 조건일 경우 | 사용\n",
    "new_df.loc[new_df['string_hour'].str.contains(\"10|11\")==True].head()"
   ]
  },
  {
   "cell_type": "markdown",
   "id": "29abcca4-6bea-4a3b-b146-bd7df7bcd0e1",
   "metadata": {
    "tags": []
   },
   "source": [
    "### 이동 평균 및 Lag\n",
    "- 이동 평균\n",
    "    - Series.rolling() 사용\n",
    "    - datetime64 타입을 지정해서 사용하면 NotImplementedError 발생\n",
    "\n",
    "            - 이럴 경우 set_index()로 인덱스 지정하고 사용\n",
    "\n",
    "- Lag 함수\n",
    "    - Series.shift() 사용"
   ]
  },
  {
   "cell_type": "code",
   "execution_count": 19,
   "id": "1a0ecd86-c1ec-4522-938a-2e6f7f19f1c1",
   "metadata": {},
   "outputs": [
    {
     "data": {
      "text/html": [
       "<div>\n",
       "<style scoped>\n",
       "    .dataframe tbody tr th:only-of-type {\n",
       "        vertical-align: middle;\n",
       "    }\n",
       "\n",
       "    .dataframe tbody tr th {\n",
       "        vertical-align: top;\n",
       "    }\n",
       "\n",
       "    .dataframe thead th {\n",
       "        text-align: right;\n",
       "    }\n",
       "</style>\n",
       "<table border=\"1\" class=\"dataframe\">\n",
       "  <thead>\n",
       "    <tr style=\"text-align: right;\">\n",
       "      <th></th>\n",
       "      <th>cnt</th>\n",
       "      <th>year</th>\n",
       "      <th>month</th>\n",
       "      <th>day</th>\n",
       "      <th>hour</th>\n",
       "      <th>weekday</th>\n",
       "      <th>string_hour</th>\n",
       "      <th>moving_average</th>\n",
       "      <th>lag_cnt</th>\n",
       "    </tr>\n",
       "    <tr>\n",
       "      <th>pickup_hour</th>\n",
       "      <th></th>\n",
       "      <th></th>\n",
       "      <th></th>\n",
       "      <th></th>\n",
       "      <th></th>\n",
       "      <th></th>\n",
       "      <th></th>\n",
       "      <th></th>\n",
       "      <th></th>\n",
       "    </tr>\n",
       "  </thead>\n",
       "  <tbody>\n",
       "    <tr>\n",
       "      <th>2015-01-01 00:00:00</th>\n",
       "      <td>28312</td>\n",
       "      <td>2015</td>\n",
       "      <td>1</td>\n",
       "      <td>1</td>\n",
       "      <td>0</td>\n",
       "      <td>3</td>\n",
       "      <td>0</td>\n",
       "      <td>NaN</td>\n",
       "      <td>NaN</td>\n",
       "    </tr>\n",
       "    <tr>\n",
       "      <th>2015-01-01 01:00:00</th>\n",
       "      <td>31707</td>\n",
       "      <td>2015</td>\n",
       "      <td>1</td>\n",
       "      <td>1</td>\n",
       "      <td>1</td>\n",
       "      <td>3</td>\n",
       "      <td>1</td>\n",
       "      <td>NaN</td>\n",
       "      <td>28312.0</td>\n",
       "    </tr>\n",
       "    <tr>\n",
       "      <th>2015-01-01 02:00:00</th>\n",
       "      <td>28068</td>\n",
       "      <td>2015</td>\n",
       "      <td>1</td>\n",
       "      <td>1</td>\n",
       "      <td>2</td>\n",
       "      <td>3</td>\n",
       "      <td>2</td>\n",
       "      <td>29362.333333</td>\n",
       "      <td>31707.0</td>\n",
       "    </tr>\n",
       "    <tr>\n",
       "      <th>2015-01-01 03:00:00</th>\n",
       "      <td>24288</td>\n",
       "      <td>2015</td>\n",
       "      <td>1</td>\n",
       "      <td>1</td>\n",
       "      <td>3</td>\n",
       "      <td>3</td>\n",
       "      <td>3</td>\n",
       "      <td>28021.000000</td>\n",
       "      <td>28068.0</td>\n",
       "    </tr>\n",
       "    <tr>\n",
       "      <th>2015-01-01 04:00:00</th>\n",
       "      <td>17081</td>\n",
       "      <td>2015</td>\n",
       "      <td>1</td>\n",
       "      <td>1</td>\n",
       "      <td>4</td>\n",
       "      <td>3</td>\n",
       "      <td>4</td>\n",
       "      <td>23145.666667</td>\n",
       "      <td>24288.0</td>\n",
       "    </tr>\n",
       "  </tbody>\n",
       "</table>\n",
       "</div>"
      ],
      "text/plain": [
       "                       cnt  year  month  day  hour  weekday string_hour  \\\n",
       "pickup_hour                                                               \n",
       "2015-01-01 00:00:00  28312  2015      1    1     0        3           0   \n",
       "2015-01-01 01:00:00  31707  2015      1    1     1        3           1   \n",
       "2015-01-01 02:00:00  28068  2015      1    1     2        3           2   \n",
       "2015-01-01 03:00:00  24288  2015      1    1     3        3           3   \n",
       "2015-01-01 04:00:00  17081  2015      1    1     4        3           4   \n",
       "\n",
       "                     moving_average  lag_cnt  \n",
       "pickup_hour                                   \n",
       "2015-01-01 00:00:00             NaN      NaN  \n",
       "2015-01-01 01:00:00             NaN  28312.0  \n",
       "2015-01-01 02:00:00    29362.333333  31707.0  \n",
       "2015-01-01 03:00:00    28021.000000  28068.0  \n",
       "2015-01-01 04:00:00    23145.666667  24288.0  "
      ]
     },
     "execution_count": 19,
     "metadata": {},
     "output_type": "execute_result"
    }
   ],
   "source": [
    "new_df = new_df.set_index('pickup_hour')\n",
    "new_df['moving_average'] = new_df['cnt'].rolling(window=3, center=False).mean()\n",
    "new_df['lag_cnt'] = new_df['cnt'].shift(1)\n",
    "new_df.head()"
   ]
  },
  {
   "cell_type": "markdown",
   "id": "4264dcdc-7ea0-41ec-9956-313c6b4bb4cc",
   "metadata": {},
   "source": [
    "### fillna, merge, concat 등\n",
    "- fillna : na값 채우기\n",
    "- merge : SQL의 join과 비슷\n",
    "- concat : axis=1, axis=0으로 붙이기\n",
    "\n"
   ]
  },
  {
   "cell_type": "code",
   "execution_count": 20,
   "id": "83d85d55-63b1-45c3-8f14-81d266777872",
   "metadata": {},
   "outputs": [],
   "source": [
    "# display max row 설정\n",
    "pd.set_option('display.max_rows', 1000)\n",
    "\n",
    "# Plot 그릴시 레티나로 그리기(Mac에서 더 또렷하게)\n",
    "# %config InlineBackend.figure_format = 'retina'\n",
    "\n",
    "# 이걸 설정하면 한 셀에서 Multiple Output Print 가능\n",
    "from IPython.core.interactiveshell import InteractiveShell\n",
    "InteractiveShell.ast_node_interactivity = \"all\""
   ]
  },
  {
   "cell_type": "markdown",
   "id": "64bb0f1e-07f9-4d89-8b17-091644f21336",
   "metadata": {},
   "source": [
    "1) Pandas + BigQuery => pd.read_gbq()\n",
    "2) 컬럼 타입 변경 => Memory 사용량 감소\n",
    "3) 컬럼별 값이 얼마나 있는지 => value_counts()\n",
    "4) Datetime 추출하고 싶은 경우 => df['datetime_column'].dt.~~~\n",
    "5) Filtering\n",
    "df[특정 조건][특정 조건]\n",
    "df[ (T or F가 나오는 연산) & (T or F가 나오는 연산) ]\n",
    "loc 사용\n",
    "query 사용\n",
    "6) Pivot Table\n",
    "7) 재구조화 : stack(), unstack(), melt(), .reset_index()\n",
    "8) 날짜 더미 데이터 생성 : pd.data_range()\n",
    "9) String value 확인 : df['col_name'].str.contains()\n",
    "10) 이동 평균 : Series.rolling, 이전 값(Lag) : Series.shift()\n",
    "11) 기타 : fillna, merge, concat\n",
    "12) notebook setting\n",
    "13) Pandas Anti Pattern을 피합시다! : pd.apply(), pd.iterrows() 사용은 고민해보고 결정하기"
   ]
  },
  {
   "cell_type": "code",
   "execution_count": 105,
   "id": "f846d047-a91f-428a-aeab-5ee60d0707ec",
   "metadata": {},
   "outputs": [
    {
     "name": "stdout",
     "output_type": "stream",
     "text": [
      "Collecting chart-studio\n",
      "  Downloading chart_studio-1.1.0-py3-none-any.whl (64 kB)\n",
      "Requirement already satisfied: plotly in c:\\jupyterlab\\resources\\jlab_server\\lib\\site-packages (from chart-studio) (5.3.1)\n",
      "Requirement already satisfied: six in c:\\jupyterlab\\resources\\jlab_server\\lib\\site-packages (from chart-studio) (1.16.0)\n",
      "Collecting retrying>=1.3.3\n",
      "  Downloading retrying-1.3.3.tar.gz (10 kB)\n",
      "  Preparing metadata (setup.py): started\n",
      "  Preparing metadata (setup.py): finished with status 'done'\n",
      "Requirement already satisfied: requests in c:\\jupyterlab\\resources\\jlab_server\\lib\\site-packages (from chart-studio) (2.26.0)\n",
      "Requirement already satisfied: tenacity>=6.2.0 in c:\\jupyterlab\\resources\\jlab_server\\lib\\site-packages (from plotly->chart-studio) (8.0.1)\n",
      "Requirement already satisfied: certifi>=2017.4.17 in c:\\jupyterlab\\resources\\jlab_server\\lib\\site-packages (from requests->chart-studio) (2021.10.8)\n",
      "Requirement already satisfied: charset-normalizer~=2.0.0 in c:\\jupyterlab\\resources\\jlab_server\\lib\\site-packages (from requests->chart-studio) (2.0.0)\n",
      "Requirement already satisfied: urllib3<1.27,>=1.21.1 in c:\\jupyterlab\\resources\\jlab_server\\lib\\site-packages (from requests->chart-studio) (1.26.7)\n",
      "Requirement already satisfied: idna<4,>=2.5 in c:\\jupyterlab\\resources\\jlab_server\\lib\\site-packages (from requests->chart-studio) (3.1)\n",
      "Building wheels for collected packages: retrying\n",
      "  Building wheel for retrying (setup.py): started\n",
      "  Building wheel for retrying (setup.py): finished with status 'done'\n",
      "  Created wheel for retrying: filename=retrying-1.3.3-py3-none-any.whl size=11448 sha256=3ab79847adc014756d9da9baaf38df2eab704714442388afb7faa96369c210dc\n",
      "  Stored in directory: c:\\users\\aurskog\\appdata\\local\\pip\\cache\\wheels\\c4\\a7\\48\\0a434133f6d56e878ca511c0e6c38326907c0792f67b476e56\n",
      "Successfully built retrying\n",
      "Installing collected packages: retrying, chart-studio\n",
      "Successfully installed chart-studio-1.1.0 retrying-1.3.3\n"
     ]
    },
    {
     "name": "stderr",
     "output_type": "stream",
     "text": [
      "sys:1: ResourceWarning: unclosed socket <zmq.Socket(zmq.PUSH) at 0x259a0bffee0>\n",
      "ResourceWarning: Enable tracemalloc to get the object allocation traceback\n",
      "C:\\JupyterLab\\resources\\jlab_server\\lib\\site-packages\\IPython\\utils\\_process_win32.py:145: ResourceWarning: unclosed file <_io.BufferedWriter name=4>\n",
      "  return process_handler(cmd, _system_body)\n",
      "ResourceWarning: Enable tracemalloc to get the object allocation traceback\n",
      "C:\\JupyterLab\\resources\\jlab_server\\lib\\site-packages\\IPython\\utils\\_process_win32.py:145: ResourceWarning: unclosed file <_io.BufferedReader name=5>\n",
      "  return process_handler(cmd, _system_body)\n",
      "ResourceWarning: Enable tracemalloc to get the object allocation traceback\n",
      "C:\\JupyterLab\\resources\\jlab_server\\lib\\site-packages\\IPython\\utils\\_process_win32.py:145: ResourceWarning: unclosed file <_io.BufferedReader name=6>\n",
      "  return process_handler(cmd, _system_body)\n",
      "ResourceWarning: Enable tracemalloc to get the object allocation traceback\n"
     ]
    }
   ],
   "source": [
    "# !pip3 install cufflinks\n",
    "# !pip3 install seaborn\n",
    "# !pip3 install chart-studio"
   ]
  },
  {
   "cell_type": "code",
   "execution_count": 21,
   "id": "2843505a-e1ea-456b-8eb7-ed2b6e8cea3e",
   "metadata": {},
   "outputs": [
    {
     "name": "stdout",
     "output_type": "stream",
     "text": [
      "0.17.3\n"
     ]
    },
    {
     "data": {
      "text/html": [
       "        <script type=\"text/javascript\">\n",
       "        window.PlotlyConfig = {MathJaxConfig: 'local'};\n",
       "        if (window.MathJax) {MathJax.Hub.Config({SVG: {font: \"STIX-Web\"}});}\n",
       "        if (typeof require !== 'undefined') {\n",
       "        require.undef(\"plotly\");\n",
       "        requirejs.config({\n",
       "            paths: {\n",
       "                'plotly': ['https://cdn.plot.ly/plotly-2.4.2.min']\n",
       "            }\n",
       "        });\n",
       "        require(['plotly'], function(Plotly) {\n",
       "            window._Plotly = Plotly;\n",
       "        });\n",
       "        }\n",
       "        </script>\n",
       "        "
      ]
     },
     "metadata": {},
     "output_type": "display_data"
    }
   ],
   "source": [
    "import chart_studio.plotly as py\n",
    "import cufflinks as cf\n",
    "import numpy as np\n",
    "import seaborn as sns\n",
    "import matplotlib.pyplot as plt\n",
    "import warnings\n",
    "warnings.filterwarnings(\"ignore\")\n",
    "\n",
    "plt.style.use('ggplot')\n",
    "print(cf.__version__)\n",
    "\n",
    "%config InlineBackend.figure_format = 'retina'\n",
    "cf.go_offline()"
   ]
  },
  {
   "cell_type": "code",
   "execution_count": 22,
   "id": "eff8618d-ba5c-4ab0-992f-18b2fe7d62ee",
   "metadata": {},
   "outputs": [
    {
     "name": "stdout",
     "output_type": "stream",
     "text": [
      "Wall time: 1.55 s\n"
     ]
    }
   ],
   "source": [
    "%%time \n",
    "# CPU time not measured on Windows?\n",
    "query = \"\"\"\n",
    "SELECT \n",
    "    DATETIME_TRUNC(pickup_datetime, hour) as pickup_hour,\n",
    "    count(*) as cnt\n",
    "FROM `bigquery-public-data.new_york_taxi_trips.tlc_yellow_trips_2015` \n",
    "WHERE EXTRACT(MONTH from pickup_datetime) = 1\n",
    "GROUP BY pickup_hour\n",
    "ORDER BY pickup_hour\n",
    "\"\"\"\n",
    "\n",
    "df = pd.read_gbq(query=query, dialect='standard', project_id=project_id)"
   ]
  },
  {
   "cell_type": "code",
   "execution_count": 23,
   "id": "572038d0-4025-4fa0-969e-06e695cc6a84",
   "metadata": {},
   "outputs": [],
   "source": [
    "# pickup_hour가 이미 datetime이라 아래 to_datetime은 안해도 되지만, \n",
    "# 혹시 필요하신 분을 위해 남겨둠\n",
    "# df['pickup_hour'] = pd.to_datetime(df['pickup_hour'])\n",
    "df = df.set_index('pickup_hour')"
   ]
  },
  {
   "cell_type": "code",
   "execution_count": 24,
   "id": "071257a3-cdc8-4b7d-8466-5a23633bd137",
   "metadata": {},
   "outputs": [
    {
     "data": {
      "text/html": [
       "<div>\n",
       "<style scoped>\n",
       "    .dataframe tbody tr th:only-of-type {\n",
       "        vertical-align: middle;\n",
       "    }\n",
       "\n",
       "    .dataframe tbody tr th {\n",
       "        vertical-align: top;\n",
       "    }\n",
       "\n",
       "    .dataframe thead th {\n",
       "        text-align: right;\n",
       "    }\n",
       "</style>\n",
       "<table border=\"1\" class=\"dataframe\">\n",
       "  <thead>\n",
       "    <tr style=\"text-align: right;\">\n",
       "      <th></th>\n",
       "      <th>cnt</th>\n",
       "    </tr>\n",
       "    <tr>\n",
       "      <th>pickup_hour</th>\n",
       "      <th></th>\n",
       "    </tr>\n",
       "  </thead>\n",
       "  <tbody>\n",
       "    <tr>\n",
       "      <th>2015-01-01 00:00:00</th>\n",
       "      <td>28312</td>\n",
       "    </tr>\n",
       "    <tr>\n",
       "      <th>2015-01-01 01:00:00</th>\n",
       "      <td>31707</td>\n",
       "    </tr>\n",
       "    <tr>\n",
       "      <th>2015-01-01 02:00:00</th>\n",
       "      <td>28068</td>\n",
       "    </tr>\n",
       "    <tr>\n",
       "      <th>2015-01-01 03:00:00</th>\n",
       "      <td>24288</td>\n",
       "    </tr>\n",
       "    <tr>\n",
       "      <th>2015-01-01 04:00:00</th>\n",
       "      <td>17081</td>\n",
       "    </tr>\n",
       "  </tbody>\n",
       "</table>\n",
       "</div>"
      ],
      "text/plain": [
       "                       cnt\n",
       "pickup_hour               \n",
       "2015-01-01 00:00:00  28312\n",
       "2015-01-01 01:00:00  31707\n",
       "2015-01-01 02:00:00  28068\n",
       "2015-01-01 03:00:00  24288\n",
       "2015-01-01 04:00:00  17081"
      ]
     },
     "execution_count": 24,
     "metadata": {},
     "output_type": "execute_result"
    }
   ],
   "source": [
    "df.head()"
   ]
  },
  {
   "cell_type": "code",
   "execution_count": 1,
   "id": "0da9525c-2e75-4d2b-887e-eab93247c3d4",
   "metadata": {},
   "outputs": [
    {
     "name": "stderr",
     "output_type": "stream",
     "text": [
      "JupyterLab v3.2.1\n",
      "C:\\JupyterLab\\resources\\jlab_server\\share\\jupyter\\labextensions\n",
      "        jupyterlab-plotly v5.3.1 enabled ok\n",
      "        @jupyter-widgets/jupyterlab-manager v3.0.1 enabled ok (python, jupyterlab_widgets)\n",
      "\n",
      "Other labextensions (built into JupyterLab)\n",
      "   app dir: C:\\JupyterLab\\resources\\jlab_server\\share\\jupyter\\lab\n",
      "        jupyterlab-dash v0.4.0 enabled ok\n",
      "\n",
      "\n",
      "Build recommended, please run `jupyter lab build`:\n",
      "    jupyterlab-dash needs to be included in build\n"
     ]
    }
   ],
   "source": [
    "# Check that jupyterlab-plotly is installed\n",
    "!jupyter labextension list"
   ]
  },
  {
   "cell_type": "code",
   "execution_count": 51,
   "id": "92d0ab3b-f40a-4807-90e9-0591d6e6dc87",
   "metadata": {},
   "outputs": [
    {
     "name": "stdout",
     "output_type": "stream",
     "text": [
      "plotly_mimetype\n",
      "jupyterlab\n",
      "nteract\n",
      "vscode\n",
      "notebook\n",
      "notebook_connected\n",
      "kaggle\n",
      "azure\n",
      "colab\n",
      "cocalc\n",
      "databricks\n",
      "json\n",
      "png\n",
      "jpeg\n",
      "jpg\n",
      "svg\n",
      "pdf\n",
      "browser\n",
      "firefox\n",
      "chrome\n",
      "chromium\n",
      "iframe\n",
      "iframe_connected\n",
      "sphinx_gallery\n",
      "sphinx_gallery_png\n"
     ]
    }
   ],
   "source": [
    "#https://plotly.com/python/renderers/\n",
    "\n",
    "import pandas as pd\n",
    "import plotly.express as px\n",
    "import plotly.io as pio\n",
    "\n",
    "for text in pio.renderers:\n",
    "   print(text)\n",
    "pio.renderers.default = text"
   ]
  },
  {
   "cell_type": "code",
   "execution_count": 48,
   "id": "8f2da2d2-194a-4a41-80ec-68b65dfe3ec8",
   "metadata": {},
   "outputs": [],
   "source": [
    "pio.renderers.default = 'colab'"
   ]
  },
  {
   "cell_type": "code",
   "execution_count": 50,
   "id": "75f23bfd-62b4-4547-b72b-6fa953660d43",
   "metadata": {},
   "outputs": [
    {
     "data": {
      "text/html": [
       "<html>\n",
       "<head><meta charset=\"utf-8\" /></head>\n",
       "<body>\n",
       "    <div>            <script src=\"https://cdnjs.cloudflare.com/ajax/libs/mathjax/2.7.5/MathJax.js?config=TeX-AMS-MML_SVG\"></script><script type=\"text/javascript\">if (window.MathJax) {MathJax.Hub.Config({SVG: {font: \"STIX-Web\"}});}</script>                <script type=\"text/javascript\">window.PlotlyConfig = {MathJaxConfig: 'local'};</script>\n",
       "        <script src=\"https://cdn.plot.ly/plotly-2.4.2.min.js\"></script>                <div id=\"16554605-620d-42f4-8e0b-96afacab229a\" class=\"plotly-graph-div\" style=\"height:500px; width:800px;\"></div>            <script type=\"text/javascript\">                                    window.PLOTLYENV=window.PLOTLYENV || {};\n",
       "                    window.PLOTLYENV.BASE_URL='https://plot.ly';                                    if (document.getElementById(\"16554605-620d-42f4-8e0b-96afacab229a\")) {                    Plotly.newPlot(                        \"16554605-620d-42f4-8e0b-96afacab229a\",                        [{\"line\":{\"color\":\"rgba(255, 153, 51, 1.0)\",\"dash\":\"solid\",\"shape\":\"linear\",\"width\":1.3},\"mode\":\"lines\",\"name\":\"cnt\",\"text\":\"\",\"type\":\"scatter\",\"x\":[\"2015-01-01 00:00:00\",\"2015-01-01 01:00:00\",\"2015-01-01 02:00:00\",\"2015-01-01 03:00:00\",\"2015-01-01 04:00:00\",\"2015-01-01 05:00:00\",\"2015-01-01 06:00:00\",\"2015-01-01 07:00:00\",\"2015-01-01 08:00:00\",\"2015-01-01 09:00:00\",\"2015-01-01 10:00:00\",\"2015-01-01 11:00:00\",\"2015-01-01 12:00:00\",\"2015-01-01 13:00:00\",\"2015-01-01 14:00:00\",\"2015-01-01 15:00:00\",\"2015-01-01 16:00:00\",\"2015-01-01 17:00:00\",\"2015-01-01 18:00:00\",\"2015-01-01 19:00:00\",\"2015-01-01 20:00:00\",\"2015-01-01 21:00:00\",\"2015-01-01 22:00:00\",\"2015-01-01 23:00:00\",\"2015-01-02 00:00:00\",\"2015-01-02 01:00:00\",\"2015-01-02 02:00:00\",\"2015-01-02 03:00:00\",\"2015-01-02 04:00:00\",\"2015-01-02 05:00:00\",\"2015-01-02 06:00:00\",\"2015-01-02 07:00:00\",\"2015-01-02 08:00:00\",\"2015-01-02 09:00:00\",\"2015-01-02 10:00:00\",\"2015-01-02 11:00:00\",\"2015-01-02 12:00:00\",\"2015-01-02 13:00:00\",\"2015-01-02 14:00:00\",\"2015-01-02 15:00:00\",\"2015-01-02 16:00:00\",\"2015-01-02 17:00:00\",\"2015-01-02 18:00:00\",\"2015-01-02 19:00:00\",\"2015-01-02 20:00:00\",\"2015-01-02 21:00:00\",\"2015-01-02 22:00:00\",\"2015-01-02 23:00:00\",\"2015-01-03 00:00:00\",\"2015-01-03 01:00:00\",\"2015-01-03 02:00:00\",\"2015-01-03 03:00:00\",\"2015-01-03 04:00:00\",\"2015-01-03 05:00:00\",\"2015-01-03 06:00:00\",\"2015-01-03 07:00:00\",\"2015-01-03 08:00:00\",\"2015-01-03 09:00:00\",\"2015-01-03 10:00:00\",\"2015-01-03 11:00:00\",\"2015-01-03 12:00:00\",\"2015-01-03 13:00:00\",\"2015-01-03 14:00:00\",\"2015-01-03 15:00:00\",\"2015-01-03 16:00:00\",\"2015-01-03 17:00:00\",\"2015-01-03 18:00:00\",\"2015-01-03 19:00:00\",\"2015-01-03 20:00:00\",\"2015-01-03 21:00:00\",\"2015-01-03 22:00:00\",\"2015-01-03 23:00:00\",\"2015-01-04 00:00:00\",\"2015-01-04 01:00:00\",\"2015-01-04 02:00:00\",\"2015-01-04 03:00:00\",\"2015-01-04 04:00:00\",\"2015-01-04 05:00:00\",\"2015-01-04 06:00:00\",\"2015-01-04 07:00:00\",\"2015-01-04 08:00:00\",\"2015-01-04 09:00:00\",\"2015-01-04 10:00:00\",\"2015-01-04 11:00:00\",\"2015-01-04 12:00:00\",\"2015-01-04 13:00:00\",\"2015-01-04 14:00:00\",\"2015-01-04 15:00:00\",\"2015-01-04 16:00:00\",\"2015-01-04 17:00:00\",\"2015-01-04 18:00:00\",\"2015-01-04 19:00:00\",\"2015-01-04 20:00:00\",\"2015-01-04 21:00:00\",\"2015-01-04 22:00:00\",\"2015-01-04 23:00:00\",\"2015-01-05 00:00:00\",\"2015-01-05 01:00:00\",\"2015-01-05 02:00:00\",\"2015-01-05 03:00:00\",\"2015-01-05 04:00:00\",\"2015-01-05 05:00:00\",\"2015-01-05 06:00:00\",\"2015-01-05 07:00:00\",\"2015-01-05 08:00:00\",\"2015-01-05 09:00:00\",\"2015-01-05 10:00:00\",\"2015-01-05 11:00:00\",\"2015-01-05 12:00:00\",\"2015-01-05 13:00:00\",\"2015-01-05 14:00:00\",\"2015-01-05 15:00:00\",\"2015-01-05 16:00:00\",\"2015-01-05 17:00:00\",\"2015-01-05 18:00:00\",\"2015-01-05 19:00:00\",\"2015-01-05 20:00:00\",\"2015-01-05 21:00:00\",\"2015-01-05 22:00:00\",\"2015-01-05 23:00:00\",\"2015-01-06 00:00:00\",\"2015-01-06 01:00:00\",\"2015-01-06 02:00:00\",\"2015-01-06 03:00:00\",\"2015-01-06 04:00:00\",\"2015-01-06 05:00:00\",\"2015-01-06 06:00:00\",\"2015-01-06 07:00:00\",\"2015-01-06 08:00:00\",\"2015-01-06 09:00:00\",\"2015-01-06 10:00:00\",\"2015-01-06 11:00:00\",\"2015-01-06 12:00:00\",\"2015-01-06 13:00:00\",\"2015-01-06 14:00:00\",\"2015-01-06 15:00:00\",\"2015-01-06 16:00:00\",\"2015-01-06 17:00:00\",\"2015-01-06 18:00:00\",\"2015-01-06 19:00:00\",\"2015-01-06 20:00:00\",\"2015-01-06 21:00:00\",\"2015-01-06 22:00:00\",\"2015-01-06 23:00:00\",\"2015-01-07 00:00:00\",\"2015-01-07 01:00:00\",\"2015-01-07 02:00:00\",\"2015-01-07 03:00:00\",\"2015-01-07 04:00:00\",\"2015-01-07 05:00:00\",\"2015-01-07 06:00:00\",\"2015-01-07 07:00:00\",\"2015-01-07 08:00:00\",\"2015-01-07 09:00:00\",\"2015-01-07 10:00:00\",\"2015-01-07 11:00:00\",\"2015-01-07 12:00:00\",\"2015-01-07 13:00:00\",\"2015-01-07 14:00:00\",\"2015-01-07 15:00:00\",\"2015-01-07 16:00:00\",\"2015-01-07 17:00:00\",\"2015-01-07 18:00:00\",\"2015-01-07 19:00:00\",\"2015-01-07 20:00:00\",\"2015-01-07 21:00:00\",\"2015-01-07 22:00:00\",\"2015-01-07 23:00:00\",\"2015-01-08 00:00:00\",\"2015-01-08 01:00:00\",\"2015-01-08 02:00:00\",\"2015-01-08 03:00:00\",\"2015-01-08 04:00:00\",\"2015-01-08 05:00:00\",\"2015-01-08 06:00:00\",\"2015-01-08 07:00:00\",\"2015-01-08 08:00:00\",\"2015-01-08 09:00:00\",\"2015-01-08 10:00:00\",\"2015-01-08 11:00:00\",\"2015-01-08 12:00:00\",\"2015-01-08 13:00:00\",\"2015-01-08 14:00:00\",\"2015-01-08 15:00:00\",\"2015-01-08 16:00:00\",\"2015-01-08 17:00:00\",\"2015-01-08 18:00:00\",\"2015-01-08 19:00:00\",\"2015-01-08 20:00:00\",\"2015-01-08 21:00:00\",\"2015-01-08 22:00:00\",\"2015-01-08 23:00:00\",\"2015-01-09 00:00:00\",\"2015-01-09 01:00:00\",\"2015-01-09 02:00:00\",\"2015-01-09 03:00:00\",\"2015-01-09 04:00:00\",\"2015-01-09 05:00:00\",\"2015-01-09 06:00:00\",\"2015-01-09 07:00:00\",\"2015-01-09 08:00:00\",\"2015-01-09 09:00:00\",\"2015-01-09 10:00:00\",\"2015-01-09 11:00:00\",\"2015-01-09 12:00:00\",\"2015-01-09 13:00:00\",\"2015-01-09 14:00:00\",\"2015-01-09 15:00:00\",\"2015-01-09 16:00:00\",\"2015-01-09 17:00:00\",\"2015-01-09 18:00:00\",\"2015-01-09 19:00:00\",\"2015-01-09 20:00:00\",\"2015-01-09 21:00:00\",\"2015-01-09 22:00:00\",\"2015-01-09 23:00:00\",\"2015-01-10 00:00:00\",\"2015-01-10 01:00:00\",\"2015-01-10 02:00:00\",\"2015-01-10 03:00:00\",\"2015-01-10 04:00:00\",\"2015-01-10 05:00:00\",\"2015-01-10 06:00:00\",\"2015-01-10 07:00:00\",\"2015-01-10 08:00:00\",\"2015-01-10 09:00:00\",\"2015-01-10 10:00:00\",\"2015-01-10 11:00:00\",\"2015-01-10 12:00:00\",\"2015-01-10 13:00:00\",\"2015-01-10 14:00:00\",\"2015-01-10 15:00:00\",\"2015-01-10 16:00:00\",\"2015-01-10 17:00:00\",\"2015-01-10 18:00:00\",\"2015-01-10 19:00:00\",\"2015-01-10 20:00:00\",\"2015-01-10 21:00:00\",\"2015-01-10 22:00:00\",\"2015-01-10 23:00:00\",\"2015-01-11 00:00:00\",\"2015-01-11 01:00:00\",\"2015-01-11 02:00:00\",\"2015-01-11 03:00:00\",\"2015-01-11 04:00:00\",\"2015-01-11 05:00:00\",\"2015-01-11 06:00:00\",\"2015-01-11 07:00:00\",\"2015-01-11 08:00:00\",\"2015-01-11 09:00:00\",\"2015-01-11 10:00:00\",\"2015-01-11 11:00:00\",\"2015-01-11 12:00:00\",\"2015-01-11 13:00:00\",\"2015-01-11 14:00:00\",\"2015-01-11 15:00:00\",\"2015-01-11 16:00:00\",\"2015-01-11 17:00:00\",\"2015-01-11 18:00:00\",\"2015-01-11 19:00:00\",\"2015-01-11 20:00:00\",\"2015-01-11 21:00:00\",\"2015-01-11 22:00:00\",\"2015-01-11 23:00:00\",\"2015-01-12 00:00:00\",\"2015-01-12 01:00:00\",\"2015-01-12 02:00:00\",\"2015-01-12 03:00:00\",\"2015-01-12 04:00:00\",\"2015-01-12 05:00:00\",\"2015-01-12 06:00:00\",\"2015-01-12 07:00:00\",\"2015-01-12 08:00:00\",\"2015-01-12 09:00:00\",\"2015-01-12 10:00:00\",\"2015-01-12 11:00:00\",\"2015-01-12 12:00:00\",\"2015-01-12 13:00:00\",\"2015-01-12 14:00:00\",\"2015-01-12 15:00:00\",\"2015-01-12 16:00:00\",\"2015-01-12 17:00:00\",\"2015-01-12 18:00:00\",\"2015-01-12 19:00:00\",\"2015-01-12 20:00:00\",\"2015-01-12 21:00:00\",\"2015-01-12 22:00:00\",\"2015-01-12 23:00:00\",\"2015-01-13 00:00:00\",\"2015-01-13 01:00:00\",\"2015-01-13 02:00:00\",\"2015-01-13 03:00:00\",\"2015-01-13 04:00:00\",\"2015-01-13 05:00:00\",\"2015-01-13 06:00:00\",\"2015-01-13 07:00:00\",\"2015-01-13 08:00:00\",\"2015-01-13 09:00:00\",\"2015-01-13 10:00:00\",\"2015-01-13 11:00:00\",\"2015-01-13 12:00:00\",\"2015-01-13 13:00:00\",\"2015-01-13 14:00:00\",\"2015-01-13 15:00:00\",\"2015-01-13 16:00:00\",\"2015-01-13 17:00:00\",\"2015-01-13 18:00:00\",\"2015-01-13 19:00:00\",\"2015-01-13 20:00:00\",\"2015-01-13 21:00:00\",\"2015-01-13 22:00:00\",\"2015-01-13 23:00:00\",\"2015-01-14 00:00:00\",\"2015-01-14 01:00:00\",\"2015-01-14 02:00:00\",\"2015-01-14 03:00:00\",\"2015-01-14 04:00:00\",\"2015-01-14 05:00:00\",\"2015-01-14 06:00:00\",\"2015-01-14 07:00:00\",\"2015-01-14 08:00:00\",\"2015-01-14 09:00:00\",\"2015-01-14 10:00:00\",\"2015-01-14 11:00:00\",\"2015-01-14 12:00:00\",\"2015-01-14 13:00:00\",\"2015-01-14 14:00:00\",\"2015-01-14 15:00:00\",\"2015-01-14 16:00:00\",\"2015-01-14 17:00:00\",\"2015-01-14 18:00:00\",\"2015-01-14 19:00:00\",\"2015-01-14 20:00:00\",\"2015-01-14 21:00:00\",\"2015-01-14 22:00:00\",\"2015-01-14 23:00:00\",\"2015-01-15 00:00:00\",\"2015-01-15 01:00:00\",\"2015-01-15 02:00:00\",\"2015-01-15 03:00:00\",\"2015-01-15 04:00:00\",\"2015-01-15 05:00:00\",\"2015-01-15 06:00:00\",\"2015-01-15 07:00:00\",\"2015-01-15 08:00:00\",\"2015-01-15 09:00:00\",\"2015-01-15 10:00:00\",\"2015-01-15 11:00:00\",\"2015-01-15 12:00:00\",\"2015-01-15 13:00:00\",\"2015-01-15 14:00:00\",\"2015-01-15 15:00:00\",\"2015-01-15 16:00:00\",\"2015-01-15 17:00:00\",\"2015-01-15 18:00:00\",\"2015-01-15 19:00:00\",\"2015-01-15 20:00:00\",\"2015-01-15 21:00:00\",\"2015-01-15 22:00:00\",\"2015-01-15 23:00:00\",\"2015-01-16 00:00:00\",\"2015-01-16 01:00:00\",\"2015-01-16 02:00:00\",\"2015-01-16 03:00:00\",\"2015-01-16 04:00:00\",\"2015-01-16 05:00:00\",\"2015-01-16 06:00:00\",\"2015-01-16 07:00:00\",\"2015-01-16 08:00:00\",\"2015-01-16 09:00:00\",\"2015-01-16 10:00:00\",\"2015-01-16 11:00:00\",\"2015-01-16 12:00:00\",\"2015-01-16 13:00:00\",\"2015-01-16 14:00:00\",\"2015-01-16 15:00:00\",\"2015-01-16 16:00:00\",\"2015-01-16 17:00:00\",\"2015-01-16 18:00:00\",\"2015-01-16 19:00:00\",\"2015-01-16 20:00:00\",\"2015-01-16 21:00:00\",\"2015-01-16 22:00:00\",\"2015-01-16 23:00:00\",\"2015-01-17 00:00:00\",\"2015-01-17 01:00:00\",\"2015-01-17 02:00:00\",\"2015-01-17 03:00:00\",\"2015-01-17 04:00:00\",\"2015-01-17 05:00:00\",\"2015-01-17 06:00:00\",\"2015-01-17 07:00:00\",\"2015-01-17 08:00:00\",\"2015-01-17 09:00:00\",\"2015-01-17 10:00:00\",\"2015-01-17 11:00:00\",\"2015-01-17 12:00:00\",\"2015-01-17 13:00:00\",\"2015-01-17 14:00:00\",\"2015-01-17 15:00:00\",\"2015-01-17 16:00:00\",\"2015-01-17 17:00:00\",\"2015-01-17 18:00:00\",\"2015-01-17 19:00:00\",\"2015-01-17 20:00:00\",\"2015-01-17 21:00:00\",\"2015-01-17 22:00:00\",\"2015-01-17 23:00:00\",\"2015-01-18 00:00:00\",\"2015-01-18 01:00:00\",\"2015-01-18 02:00:00\",\"2015-01-18 03:00:00\",\"2015-01-18 04:00:00\",\"2015-01-18 05:00:00\",\"2015-01-18 06:00:00\",\"2015-01-18 07:00:00\",\"2015-01-18 08:00:00\",\"2015-01-18 09:00:00\",\"2015-01-18 10:00:00\",\"2015-01-18 11:00:00\",\"2015-01-18 12:00:00\",\"2015-01-18 13:00:00\",\"2015-01-18 14:00:00\",\"2015-01-18 15:00:00\",\"2015-01-18 16:00:00\",\"2015-01-18 17:00:00\",\"2015-01-18 18:00:00\",\"2015-01-18 19:00:00\",\"2015-01-18 20:00:00\",\"2015-01-18 21:00:00\",\"2015-01-18 22:00:00\",\"2015-01-18 23:00:00\",\"2015-01-19 00:00:00\",\"2015-01-19 01:00:00\",\"2015-01-19 02:00:00\",\"2015-01-19 03:00:00\",\"2015-01-19 04:00:00\",\"2015-01-19 05:00:00\",\"2015-01-19 06:00:00\",\"2015-01-19 07:00:00\",\"2015-01-19 08:00:00\",\"2015-01-19 09:00:00\",\"2015-01-19 10:00:00\",\"2015-01-19 11:00:00\",\"2015-01-19 12:00:00\",\"2015-01-19 13:00:00\",\"2015-01-19 14:00:00\",\"2015-01-19 15:00:00\",\"2015-01-19 16:00:00\",\"2015-01-19 17:00:00\",\"2015-01-19 18:00:00\",\"2015-01-19 19:00:00\",\"2015-01-19 20:00:00\",\"2015-01-19 21:00:00\",\"2015-01-19 22:00:00\",\"2015-01-19 23:00:00\",\"2015-01-20 00:00:00\",\"2015-01-20 01:00:00\",\"2015-01-20 02:00:00\",\"2015-01-20 03:00:00\",\"2015-01-20 04:00:00\",\"2015-01-20 05:00:00\",\"2015-01-20 06:00:00\",\"2015-01-20 07:00:00\",\"2015-01-20 08:00:00\",\"2015-01-20 09:00:00\",\"2015-01-20 10:00:00\",\"2015-01-20 11:00:00\",\"2015-01-20 12:00:00\",\"2015-01-20 13:00:00\",\"2015-01-20 14:00:00\",\"2015-01-20 15:00:00\",\"2015-01-20 16:00:00\",\"2015-01-20 17:00:00\",\"2015-01-20 18:00:00\",\"2015-01-20 19:00:00\",\"2015-01-20 20:00:00\",\"2015-01-20 21:00:00\",\"2015-01-20 22:00:00\",\"2015-01-20 23:00:00\",\"2015-01-21 00:00:00\",\"2015-01-21 01:00:00\",\"2015-01-21 02:00:00\",\"2015-01-21 03:00:00\",\"2015-01-21 04:00:00\",\"2015-01-21 05:00:00\",\"2015-01-21 06:00:00\",\"2015-01-21 07:00:00\",\"2015-01-21 08:00:00\",\"2015-01-21 09:00:00\",\"2015-01-21 10:00:00\",\"2015-01-21 11:00:00\",\"2015-01-21 12:00:00\",\"2015-01-21 13:00:00\",\"2015-01-21 14:00:00\",\"2015-01-21 15:00:00\",\"2015-01-21 16:00:00\",\"2015-01-21 17:00:00\",\"2015-01-21 18:00:00\",\"2015-01-21 19:00:00\",\"2015-01-21 20:00:00\",\"2015-01-21 21:00:00\",\"2015-01-21 22:00:00\",\"2015-01-21 23:00:00\",\"2015-01-22 00:00:00\",\"2015-01-22 01:00:00\",\"2015-01-22 02:00:00\",\"2015-01-22 03:00:00\",\"2015-01-22 04:00:00\",\"2015-01-22 05:00:00\",\"2015-01-22 06:00:00\",\"2015-01-22 07:00:00\",\"2015-01-22 08:00:00\",\"2015-01-22 09:00:00\",\"2015-01-22 10:00:00\",\"2015-01-22 11:00:00\",\"2015-01-22 12:00:00\",\"2015-01-22 13:00:00\",\"2015-01-22 14:00:00\",\"2015-01-22 15:00:00\",\"2015-01-22 16:00:00\",\"2015-01-22 17:00:00\",\"2015-01-22 18:00:00\",\"2015-01-22 19:00:00\",\"2015-01-22 20:00:00\",\"2015-01-22 21:00:00\",\"2015-01-22 22:00:00\",\"2015-01-22 23:00:00\",\"2015-01-23 00:00:00\",\"2015-01-23 01:00:00\",\"2015-01-23 02:00:00\",\"2015-01-23 03:00:00\",\"2015-01-23 04:00:00\",\"2015-01-23 05:00:00\",\"2015-01-23 06:00:00\",\"2015-01-23 07:00:00\",\"2015-01-23 08:00:00\",\"2015-01-23 09:00:00\",\"2015-01-23 10:00:00\",\"2015-01-23 11:00:00\",\"2015-01-23 12:00:00\",\"2015-01-23 13:00:00\",\"2015-01-23 14:00:00\",\"2015-01-23 15:00:00\",\"2015-01-23 16:00:00\",\"2015-01-23 17:00:00\",\"2015-01-23 18:00:00\",\"2015-01-23 19:00:00\",\"2015-01-23 20:00:00\",\"2015-01-23 21:00:00\",\"2015-01-23 22:00:00\",\"2015-01-23 23:00:00\",\"2015-01-24 00:00:00\",\"2015-01-24 01:00:00\",\"2015-01-24 02:00:00\",\"2015-01-24 03:00:00\",\"2015-01-24 04:00:00\",\"2015-01-24 05:00:00\",\"2015-01-24 06:00:00\",\"2015-01-24 07:00:00\",\"2015-01-24 08:00:00\",\"2015-01-24 09:00:00\",\"2015-01-24 10:00:00\",\"2015-01-24 11:00:00\",\"2015-01-24 12:00:00\",\"2015-01-24 13:00:00\",\"2015-01-24 14:00:00\",\"2015-01-24 15:00:00\",\"2015-01-24 16:00:00\",\"2015-01-24 17:00:00\",\"2015-01-24 18:00:00\",\"2015-01-24 19:00:00\",\"2015-01-24 20:00:00\",\"2015-01-24 21:00:00\",\"2015-01-24 22:00:00\",\"2015-01-24 23:00:00\",\"2015-01-25 00:00:00\",\"2015-01-25 01:00:00\",\"2015-01-25 02:00:00\",\"2015-01-25 03:00:00\",\"2015-01-25 04:00:00\",\"2015-01-25 05:00:00\",\"2015-01-25 06:00:00\",\"2015-01-25 07:00:00\",\"2015-01-25 08:00:00\",\"2015-01-25 09:00:00\",\"2015-01-25 10:00:00\",\"2015-01-25 11:00:00\",\"2015-01-25 12:00:00\",\"2015-01-25 13:00:00\",\"2015-01-25 14:00:00\",\"2015-01-25 15:00:00\",\"2015-01-25 16:00:00\",\"2015-01-25 17:00:00\",\"2015-01-25 18:00:00\",\"2015-01-25 19:00:00\",\"2015-01-25 20:00:00\",\"2015-01-25 21:00:00\",\"2015-01-25 22:00:00\",\"2015-01-25 23:00:00\",\"2015-01-26 00:00:00\",\"2015-01-26 01:00:00\",\"2015-01-26 02:00:00\",\"2015-01-26 03:00:00\",\"2015-01-26 04:00:00\",\"2015-01-26 05:00:00\",\"2015-01-26 06:00:00\",\"2015-01-26 07:00:00\",\"2015-01-26 08:00:00\",\"2015-01-26 09:00:00\",\"2015-01-26 10:00:00\",\"2015-01-26 11:00:00\",\"2015-01-26 12:00:00\",\"2015-01-26 13:00:00\",\"2015-01-26 14:00:00\",\"2015-01-26 15:00:00\",\"2015-01-26 16:00:00\",\"2015-01-26 17:00:00\",\"2015-01-26 18:00:00\",\"2015-01-26 19:00:00\",\"2015-01-26 20:00:00\",\"2015-01-26 21:00:00\",\"2015-01-26 22:00:00\",\"2015-01-26 23:00:00\",\"2015-01-27 00:00:00\",\"2015-01-27 01:00:00\",\"2015-01-27 02:00:00\",\"2015-01-27 03:00:00\",\"2015-01-27 04:00:00\",\"2015-01-27 05:00:00\",\"2015-01-27 06:00:00\",\"2015-01-27 07:00:00\",\"2015-01-27 08:00:00\",\"2015-01-27 09:00:00\",\"2015-01-27 10:00:00\",\"2015-01-27 11:00:00\",\"2015-01-27 12:00:00\",\"2015-01-27 13:00:00\",\"2015-01-27 14:00:00\",\"2015-01-27 15:00:00\",\"2015-01-27 16:00:00\",\"2015-01-27 17:00:00\",\"2015-01-27 18:00:00\",\"2015-01-27 19:00:00\",\"2015-01-27 20:00:00\",\"2015-01-27 21:00:00\",\"2015-01-27 22:00:00\",\"2015-01-27 23:00:00\",\"2015-01-28 00:00:00\",\"2015-01-28 01:00:00\",\"2015-01-28 02:00:00\",\"2015-01-28 03:00:00\",\"2015-01-28 04:00:00\",\"2015-01-28 05:00:00\",\"2015-01-28 06:00:00\",\"2015-01-28 07:00:00\",\"2015-01-28 08:00:00\",\"2015-01-28 09:00:00\",\"2015-01-28 10:00:00\",\"2015-01-28 11:00:00\",\"2015-01-28 12:00:00\",\"2015-01-28 13:00:00\",\"2015-01-28 14:00:00\",\"2015-01-28 15:00:00\",\"2015-01-28 16:00:00\",\"2015-01-28 17:00:00\",\"2015-01-28 18:00:00\",\"2015-01-28 19:00:00\",\"2015-01-28 20:00:00\",\"2015-01-28 21:00:00\",\"2015-01-28 22:00:00\",\"2015-01-28 23:00:00\",\"2015-01-29 00:00:00\",\"2015-01-29 01:00:00\",\"2015-01-29 02:00:00\",\"2015-01-29 03:00:00\",\"2015-01-29 04:00:00\",\"2015-01-29 05:00:00\",\"2015-01-29 06:00:00\",\"2015-01-29 07:00:00\",\"2015-01-29 08:00:00\",\"2015-01-29 09:00:00\",\"2015-01-29 10:00:00\",\"2015-01-29 11:00:00\",\"2015-01-29 12:00:00\",\"2015-01-29 13:00:00\",\"2015-01-29 14:00:00\",\"2015-01-29 15:00:00\",\"2015-01-29 16:00:00\",\"2015-01-29 17:00:00\",\"2015-01-29 18:00:00\",\"2015-01-29 19:00:00\",\"2015-01-29 20:00:00\",\"2015-01-29 21:00:00\",\"2015-01-29 22:00:00\",\"2015-01-29 23:00:00\",\"2015-01-30 00:00:00\",\"2015-01-30 01:00:00\",\"2015-01-30 02:00:00\",\"2015-01-30 03:00:00\",\"2015-01-30 04:00:00\",\"2015-01-30 05:00:00\",\"2015-01-30 06:00:00\",\"2015-01-30 07:00:00\",\"2015-01-30 08:00:00\",\"2015-01-30 09:00:00\",\"2015-01-30 10:00:00\",\"2015-01-30 11:00:00\",\"2015-01-30 12:00:00\",\"2015-01-30 13:00:00\",\"2015-01-30 14:00:00\",\"2015-01-30 15:00:00\",\"2015-01-30 16:00:00\",\"2015-01-30 17:00:00\",\"2015-01-30 18:00:00\",\"2015-01-30 19:00:00\",\"2015-01-30 20:00:00\",\"2015-01-30 21:00:00\",\"2015-01-30 22:00:00\",\"2015-01-30 23:00:00\",\"2015-01-31 00:00:00\",\"2015-01-31 01:00:00\",\"2015-01-31 02:00:00\",\"2015-01-31 03:00:00\",\"2015-01-31 04:00:00\",\"2015-01-31 05:00:00\",\"2015-01-31 06:00:00\",\"2015-01-31 07:00:00\",\"2015-01-31 08:00:00\",\"2015-01-31 09:00:00\",\"2015-01-31 10:00:00\",\"2015-01-31 11:00:00\",\"2015-01-31 12:00:00\",\"2015-01-31 13:00:00\",\"2015-01-31 14:00:00\",\"2015-01-31 15:00:00\",\"2015-01-31 16:00:00\",\"2015-01-31 17:00:00\",\"2015-01-31 18:00:00\",\"2015-01-31 19:00:00\",\"2015-01-31 20:00:00\",\"2015-01-31 21:00:00\",\"2015-01-31 22:00:00\",\"2015-01-31 23:00:00\"],\"y\":[28312,31707,28068,24288,17081,9112,6637,6011,5586,6977,9949,13870,16582,17448,17994,18279,16602,17511,18082,16485,15017,14801,14005,11610,9388,6291,4027,2905,2626,2755,5811,8256,10946,13373,15243,16999,19252,19023,20260,20429,18223,20680,23008,23227,20153,19611,21722,21088,19467,16660,13607,10620,7061,3512,4120,5216,7908,11869,14975,17966,21644,23718,24143,23494,20350,22295,25305,25667,20531,21399,22409,22833,20632,17494,13485,9842,6384,3365,3625,4734,7070,10153,14304,16325,18101,18639,18722,18234,18056,18257,18498,18494,17529,14063,12639,10203,7653,4685,3076,2071,2310,4218,11095,18866,22131,19602,16290,16428,17022,17127,18916,19897,17718,21727,26144,25655,22028,19814,16256,12725,8457,4968,3107,1976,2159,4083,11366,20044,24491,21343,17697,17191,17987,17464,19314,19604,17538,21171,26845,26026,24401,23308,19331,14453,9190,5580,3331,2282,2296,3900,11458,20908,25759,23237,19681,19492,20325,20469,21766,21441,19067,23561,29597,30512,27882,27163,24117,16639,10430,6034,3606,2444,2266,4016,12079,22534,27142,24633,21183,20198,20955,20408,22304,22869,19145,23738,29732,30515,28953,28159,26724,20853,13948,8392,5515,3713,3028,4201,11302,18011,18895,20194,19100,18731,19817,19811,21706,21485,18628,24055,30655,32571,29015,27733,28687,28754,26586,21782,17535,12487,7673,3856,4797,7676,11425,17546,20906,24645,26936,26292,25200,27145,24870,26401,30966,31396,29979,27413,30186,31842,28873,24937,20440,15274,8943,4036,4174,5816,9165,13808,18480,22110,24286,24336,22636,21937,22216,23176,22971,21060,17356,16315,14489,12795,7691,4265,3040,2295,2319,4281,11556,20218,24227,22719,19871,19553,20790,20182,21747,21430,18041,21610,26327,25520,23628,22215,19296,13546,11061,5511,3448,2160,2251,4113,11627,21863,26062,24479,21986,22052,22747,21910,24020,23270,18907,22734,28884,29790,29236,28619,24574,17213,11076,6499,4133,2973,2739,4486,12082,22311,26221,24625,21281,21003,21599,21099,22582,21614,17849,22232,28517,29482,27266,27429,25341,18217,11389,6785,4246,2901,2679,4380,12016,21875,26056,24517,21128,20268,21440,20628,22373,21715,17706,21760,28060,29867,29081,29105,27978,23233,15958,9830,6769,4418,3851,4765,11742,21074,24998,23605,20583,20199,21320,20952,23369,21699,18571,23426,29819,32378,30337,29246,29898,29317,26846,21792,17353,12807,8221,4113,4984,6922,11841,16425,19177,21593,23480,23780,22696,24031,22596,24966,28426,29724,24934,24786,27271,28063,27343,23852,20765,15849,9510,4254,3930,5291,9027,13916,19858,24424,25810,25864,26234,24110,21062,21010,22489,17979,16615,16345,17246,14259,11666,8059,5727,4213,3441,3244,5791,8057,12431,15188,16571,17906,20083,20754,20986,21220,20083,21172,22960,21171,18406,16928,15598,11140,7244,4297,2853,1866,2101,4390,11891,21001,24793,23165,19726,19049,19410,19185,20743,20649,18008,21937,27844,26837,25740,25535,22121,15196,9391,5787,3709,2455,2449,4169,11648,21689,25826,23812,21294,19990,20746,20266,21839,21244,18323,23083,28955,28853,27153,26976,24628,17201,10893,6695,3928,2833,2619,4200,11772,21815,25822,23540,20477,19934,21144,20134,22035,21806,18509,23047,29374,31034,29083,29764,28102,23548,15769,9955,6751,4552,3687,4488,11580,21412,25072,23542,20552,20511,21470,21258,23087,21905,18369,23276,29362,31422,28929,27820,29128,28543,26312,22178,15023,11081,7181,3849,4788,7021,10719,15620,18411,21346,23235,22863,21628,22226,22092,24193,27403,29175,23801,23691,27748,28921,27548,24736,20982,15941,9360,4078,4205,5907,8209,12961,17851,20868,22991,23335,22813,21363,20990,21770,22895,20049,17603,16393,13739,10992,7201,4433,2858,2341,2695,4794,11819,20082,23177,20586,17156,16859,17687,17905,15296,10237,6928,6292,6805,5537,4314,3437,1519,297,115,52,39,14,24,50,145,374,1003,2279,3748,4857,5798,6271,7119,8306,9683,12193,14974,13395,12064,12545,11382,9070,5491,3267,2178,1518,1705,3676,11160,19889,23070,21000,17453,16929,17196,16989,18450,18891,16780,20853,26448,27252,25293,24635,23451,16618,10608,5981,3920,2685,2579,4283,12121,21535,24504,22595,19828,19009,19940,19710,21245,20932,17403,21413,27437,28562,28124,28043,26452,23076,15208,9460,6222,4155,3517,4541,11945,22220,25798,23722,20829,20868,20665,21060,22605,21340,18463,23457,30001,33159,31946,30811,31060,30328,28225,23181,18392,13565,8516,4229,5189,7499,12428,19003,22230,25331,27021,26707,25059,25886,23822,25794,30804,32436,27555,27477,29862,29856]}],                        {\"height\":500,\"template\":{\"data\":{\"bar\":[{\"error_x\":{\"color\":\"#2a3f5f\"},\"error_y\":{\"color\":\"#2a3f5f\"},\"marker\":{\"line\":{\"color\":\"#E5ECF6\",\"width\":0.5},\"pattern\":{\"fillmode\":\"overlay\",\"size\":10,\"solidity\":0.2}},\"type\":\"bar\"}],\"barpolar\":[{\"marker\":{\"line\":{\"color\":\"#E5ECF6\",\"width\":0.5},\"pattern\":{\"fillmode\":\"overlay\",\"size\":10,\"solidity\":0.2}},\"type\":\"barpolar\"}],\"carpet\":[{\"aaxis\":{\"endlinecolor\":\"#2a3f5f\",\"gridcolor\":\"white\",\"linecolor\":\"white\",\"minorgridcolor\":\"white\",\"startlinecolor\":\"#2a3f5f\"},\"baxis\":{\"endlinecolor\":\"#2a3f5f\",\"gridcolor\":\"white\",\"linecolor\":\"white\",\"minorgridcolor\":\"white\",\"startlinecolor\":\"#2a3f5f\"},\"type\":\"carpet\"}],\"choropleth\":[{\"colorbar\":{\"outlinewidth\":0,\"ticks\":\"\"},\"type\":\"choropleth\"}],\"contour\":[{\"colorbar\":{\"outlinewidth\":0,\"ticks\":\"\"},\"colorscale\":[[0.0,\"#0d0887\"],[0.1111111111111111,\"#46039f\"],[0.2222222222222222,\"#7201a8\"],[0.3333333333333333,\"#9c179e\"],[0.4444444444444444,\"#bd3786\"],[0.5555555555555556,\"#d8576b\"],[0.6666666666666666,\"#ed7953\"],[0.7777777777777778,\"#fb9f3a\"],[0.8888888888888888,\"#fdca26\"],[1.0,\"#f0f921\"]],\"type\":\"contour\"}],\"contourcarpet\":[{\"colorbar\":{\"outlinewidth\":0,\"ticks\":\"\"},\"type\":\"contourcarpet\"}],\"heatmap\":[{\"colorbar\":{\"outlinewidth\":0,\"ticks\":\"\"},\"colorscale\":[[0.0,\"#0d0887\"],[0.1111111111111111,\"#46039f\"],[0.2222222222222222,\"#7201a8\"],[0.3333333333333333,\"#9c179e\"],[0.4444444444444444,\"#bd3786\"],[0.5555555555555556,\"#d8576b\"],[0.6666666666666666,\"#ed7953\"],[0.7777777777777778,\"#fb9f3a\"],[0.8888888888888888,\"#fdca26\"],[1.0,\"#f0f921\"]],\"type\":\"heatmap\"}],\"heatmapgl\":[{\"colorbar\":{\"outlinewidth\":0,\"ticks\":\"\"},\"colorscale\":[[0.0,\"#0d0887\"],[0.1111111111111111,\"#46039f\"],[0.2222222222222222,\"#7201a8\"],[0.3333333333333333,\"#9c179e\"],[0.4444444444444444,\"#bd3786\"],[0.5555555555555556,\"#d8576b\"],[0.6666666666666666,\"#ed7953\"],[0.7777777777777778,\"#fb9f3a\"],[0.8888888888888888,\"#fdca26\"],[1.0,\"#f0f921\"]],\"type\":\"heatmapgl\"}],\"histogram\":[{\"marker\":{\"pattern\":{\"fillmode\":\"overlay\",\"size\":10,\"solidity\":0.2}},\"type\":\"histogram\"}],\"histogram2d\":[{\"colorbar\":{\"outlinewidth\":0,\"ticks\":\"\"},\"colorscale\":[[0.0,\"#0d0887\"],[0.1111111111111111,\"#46039f\"],[0.2222222222222222,\"#7201a8\"],[0.3333333333333333,\"#9c179e\"],[0.4444444444444444,\"#bd3786\"],[0.5555555555555556,\"#d8576b\"],[0.6666666666666666,\"#ed7953\"],[0.7777777777777778,\"#fb9f3a\"],[0.8888888888888888,\"#fdca26\"],[1.0,\"#f0f921\"]],\"type\":\"histogram2d\"}],\"histogram2dcontour\":[{\"colorbar\":{\"outlinewidth\":0,\"ticks\":\"\"},\"colorscale\":[[0.0,\"#0d0887\"],[0.1111111111111111,\"#46039f\"],[0.2222222222222222,\"#7201a8\"],[0.3333333333333333,\"#9c179e\"],[0.4444444444444444,\"#bd3786\"],[0.5555555555555556,\"#d8576b\"],[0.6666666666666666,\"#ed7953\"],[0.7777777777777778,\"#fb9f3a\"],[0.8888888888888888,\"#fdca26\"],[1.0,\"#f0f921\"]],\"type\":\"histogram2dcontour\"}],\"mesh3d\":[{\"colorbar\":{\"outlinewidth\":0,\"ticks\":\"\"},\"type\":\"mesh3d\"}],\"parcoords\":[{\"line\":{\"colorbar\":{\"outlinewidth\":0,\"ticks\":\"\"}},\"type\":\"parcoords\"}],\"pie\":[{\"automargin\":true,\"type\":\"pie\"}],\"scatter\":[{\"marker\":{\"colorbar\":{\"outlinewidth\":0,\"ticks\":\"\"}},\"type\":\"scatter\"}],\"scatter3d\":[{\"line\":{\"colorbar\":{\"outlinewidth\":0,\"ticks\":\"\"}},\"marker\":{\"colorbar\":{\"outlinewidth\":0,\"ticks\":\"\"}},\"type\":\"scatter3d\"}],\"scattercarpet\":[{\"marker\":{\"colorbar\":{\"outlinewidth\":0,\"ticks\":\"\"}},\"type\":\"scattercarpet\"}],\"scattergeo\":[{\"marker\":{\"colorbar\":{\"outlinewidth\":0,\"ticks\":\"\"}},\"type\":\"scattergeo\"}],\"scattergl\":[{\"marker\":{\"colorbar\":{\"outlinewidth\":0,\"ticks\":\"\"}},\"type\":\"scattergl\"}],\"scattermapbox\":[{\"marker\":{\"colorbar\":{\"outlinewidth\":0,\"ticks\":\"\"}},\"type\":\"scattermapbox\"}],\"scatterpolar\":[{\"marker\":{\"colorbar\":{\"outlinewidth\":0,\"ticks\":\"\"}},\"type\":\"scatterpolar\"}],\"scatterpolargl\":[{\"marker\":{\"colorbar\":{\"outlinewidth\":0,\"ticks\":\"\"}},\"type\":\"scatterpolargl\"}],\"scatterternary\":[{\"marker\":{\"colorbar\":{\"outlinewidth\":0,\"ticks\":\"\"}},\"type\":\"scatterternary\"}],\"surface\":[{\"colorbar\":{\"outlinewidth\":0,\"ticks\":\"\"},\"colorscale\":[[0.0,\"#0d0887\"],[0.1111111111111111,\"#46039f\"],[0.2222222222222222,\"#7201a8\"],[0.3333333333333333,\"#9c179e\"],[0.4444444444444444,\"#bd3786\"],[0.5555555555555556,\"#d8576b\"],[0.6666666666666666,\"#ed7953\"],[0.7777777777777778,\"#fb9f3a\"],[0.8888888888888888,\"#fdca26\"],[1.0,\"#f0f921\"]],\"type\":\"surface\"}],\"table\":[{\"cells\":{\"fill\":{\"color\":\"#EBF0F8\"},\"line\":{\"color\":\"white\"}},\"header\":{\"fill\":{\"color\":\"#C8D4E3\"},\"line\":{\"color\":\"white\"}},\"type\":\"table\"}]},\"layout\":{\"annotationdefaults\":{\"arrowcolor\":\"#2a3f5f\",\"arrowhead\":0,\"arrowwidth\":1},\"autotypenumbers\":\"strict\",\"coloraxis\":{\"colorbar\":{\"outlinewidth\":0,\"ticks\":\"\"}},\"colorscale\":{\"diverging\":[[0,\"#8e0152\"],[0.1,\"#c51b7d\"],[0.2,\"#de77ae\"],[0.3,\"#f1b6da\"],[0.4,\"#fde0ef\"],[0.5,\"#f7f7f7\"],[0.6,\"#e6f5d0\"],[0.7,\"#b8e186\"],[0.8,\"#7fbc41\"],[0.9,\"#4d9221\"],[1,\"#276419\"]],\"sequential\":[[0.0,\"#0d0887\"],[0.1111111111111111,\"#46039f\"],[0.2222222222222222,\"#7201a8\"],[0.3333333333333333,\"#9c179e\"],[0.4444444444444444,\"#bd3786\"],[0.5555555555555556,\"#d8576b\"],[0.6666666666666666,\"#ed7953\"],[0.7777777777777778,\"#fb9f3a\"],[0.8888888888888888,\"#fdca26\"],[1.0,\"#f0f921\"]],\"sequentialminus\":[[0.0,\"#0d0887\"],[0.1111111111111111,\"#46039f\"],[0.2222222222222222,\"#7201a8\"],[0.3333333333333333,\"#9c179e\"],[0.4444444444444444,\"#bd3786\"],[0.5555555555555556,\"#d8576b\"],[0.6666666666666666,\"#ed7953\"],[0.7777777777777778,\"#fb9f3a\"],[0.8888888888888888,\"#fdca26\"],[1.0,\"#f0f921\"]]},\"colorway\":[\"#636efa\",\"#EF553B\",\"#00cc96\",\"#ab63fa\",\"#FFA15A\",\"#19d3f3\",\"#FF6692\",\"#B6E880\",\"#FF97FF\",\"#FECB52\"],\"font\":{\"color\":\"#2a3f5f\"},\"geo\":{\"bgcolor\":\"white\",\"lakecolor\":\"white\",\"landcolor\":\"#E5ECF6\",\"showlakes\":true,\"showland\":true,\"subunitcolor\":\"white\"},\"hoverlabel\":{\"align\":\"left\"},\"hovermode\":\"closest\",\"mapbox\":{\"style\":\"light\"},\"paper_bgcolor\":\"white\",\"plot_bgcolor\":\"#E5ECF6\",\"polar\":{\"angularaxis\":{\"gridcolor\":\"white\",\"linecolor\":\"white\",\"ticks\":\"\"},\"bgcolor\":\"#E5ECF6\",\"radialaxis\":{\"gridcolor\":\"white\",\"linecolor\":\"white\",\"ticks\":\"\"}},\"scene\":{\"xaxis\":{\"backgroundcolor\":\"#E5ECF6\",\"gridcolor\":\"white\",\"gridwidth\":2,\"linecolor\":\"white\",\"showbackground\":true,\"ticks\":\"\",\"zerolinecolor\":\"white\"},\"yaxis\":{\"backgroundcolor\":\"#E5ECF6\",\"gridcolor\":\"white\",\"gridwidth\":2,\"linecolor\":\"white\",\"showbackground\":true,\"ticks\":\"\",\"zerolinecolor\":\"white\"},\"zaxis\":{\"backgroundcolor\":\"#E5ECF6\",\"gridcolor\":\"white\",\"gridwidth\":2,\"linecolor\":\"white\",\"showbackground\":true,\"ticks\":\"\",\"zerolinecolor\":\"white\"}},\"shapedefaults\":{\"line\":{\"color\":\"#2a3f5f\"}},\"ternary\":{\"aaxis\":{\"gridcolor\":\"white\",\"linecolor\":\"white\",\"ticks\":\"\"},\"baxis\":{\"gridcolor\":\"white\",\"linecolor\":\"white\",\"ticks\":\"\"},\"bgcolor\":\"#E5ECF6\",\"caxis\":{\"gridcolor\":\"white\",\"linecolor\":\"white\",\"ticks\":\"\"}},\"title\":{\"x\":0.05},\"xaxis\":{\"automargin\":true,\"gridcolor\":\"white\",\"linecolor\":\"white\",\"ticks\":\"\",\"title\":{\"standoff\":15},\"zerolinecolor\":\"white\",\"zerolinewidth\":2},\"yaxis\":{\"automargin\":true,\"gridcolor\":\"white\",\"linecolor\":\"white\",\"ticks\":\"\",\"title\":{\"standoff\":15},\"zerolinecolor\":\"white\",\"zerolinewidth\":2}}},\"width\":800},                        {\"showLink\": true, \"linkText\": \"Export to plot.ly\", \"plotlyServerURL\": \"https://plot.ly\", \"responsive\": true}                    ).then(function(){\n",
       "                            \n",
       "var gd = document.getElementById('16554605-620d-42f4-8e0b-96afacab229a');\n",
       "var x = new MutationObserver(function (mutations, observer) {{\n",
       "        var display = window.getComputedStyle(gd).display;\n",
       "        if (!display || display === 'none') {{\n",
       "            console.log([gd, 'removed!']);\n",
       "            Plotly.purge(gd);\n",
       "            observer.disconnect();\n",
       "        }}\n",
       "}});\n",
       "\n",
       "// Listen for the removal of the full notebook cells\n",
       "var notebookContainer = gd.closest('#notebook-container');\n",
       "if (notebookContainer) {{\n",
       "    x.observe(notebookContainer, {childList: true});\n",
       "}}\n",
       "\n",
       "// Listen for the clearing of the current output cell\n",
       "var outputEl = gd.closest('.output');\n",
       "if (outputEl) {{\n",
       "    x.observe(outputEl, {childList: true});\n",
       "}}\n",
       "\n",
       "                        })                };                            </script>        </div>\n",
       "</body>\n",
       "</html>"
      ]
     },
     "metadata": {},
     "output_type": "display_data"
    }
   ],
   "source": [
    "# Set jupyterlab mode to work in offline\n",
    "layout1 = cf.Layout(\n",
    "    height=500,\n",
    "    width=800\n",
    ")\n",
    "\n",
    "df.iplot(kind='scatter',xTitle='Datetimes',yTitle='Demand',title='NYC Taxi Demand(2015-01)', layout=layout1)"
   ]
  },
  {
   "cell_type": "code",
   "execution_count": 117,
   "id": "b66bdc17-0eaf-4dad-9d08-ac35ec8d7241",
   "metadata": {},
   "outputs": [
    {
     "data": {
      "image/png": "[encoded data removed]",
      "text/plain": [
       "<Figure size 864x360 with 1 Axes>"
      ]
     },
     "metadata": {
      "image/png": {
       "height": 352,
       "width": 722
      }
     },
     "output_type": "display_data"
    }
   ],
   "source": [
    "df.plot(kind='line', figsize=(12, 5));"
   ]
  },
  {
   "cell_type": "code",
   "execution_count": 5,
   "id": "f0bb33de-256c-47ce-947c-442988182b03",
   "metadata": {},
   "outputs": [
    {
     "name": "stderr",
     "output_type": "stream",
     "text": [
      "JupyterLab v3.2.1\n",
      "C:\\JupyterLab\\resources\\jlab_server\\share\\jupyter\\labextensions\n",
      "        jupyterlab-plotly v5.3.1 enabled ok\n",
      "        @jupyter-widgets/jupyterlab-manager v3.0.1 enabled ok (python, jupyterlab_widgets)\n",
      "\n",
      "Other labextensions (built into JupyterLab)\n",
      "   app dir: C:\\JupyterLab\\resources\\jlab_server\\share\\jupyter\\lab\n",
      "        jupyterlab-dash v0.4.0 enabled ok\n",
      "        plotlywidget v4.14.3 enabled ok\n",
      "\n"
     ]
    }
   ],
   "source": [
    "!jupyter labextension list"
   ]
  },
  {
   "cell_type": "code",
   "execution_count": 2,
   "id": "ad9f8585-1fee-41aa-a5d9-ef9d08729176",
   "metadata": {},
   "outputs": [
    {
     "name": "stdout",
     "output_type": "stream",
     "text": [
      "\n"
     ]
    },
    {
     "name": "stderr",
     "output_type": "stream",
     "text": [
      "[LabBuildApp] JupyterLab 3.2.1\n",
      "[LabBuildApp] Building in C:\\JupyterLab\\resources\\jlab_server\\share\\jupyter\\lab\n",
      "[LabBuildApp] Building jupyterlab assets (production, minimized)\n"
     ]
    }
   ],
   "source": [
    "!jupyter lab build"
   ]
  },
  {
   "cell_type": "code",
   "execution_count": 4,
   "id": "f5f0ac82-fce0-4641-9c78-d7d2e1dc0152",
   "metadata": {},
   "outputs": [
    {
     "name": "stdout",
     "output_type": "stream",
     "text": [
      "\n"
     ]
    },
    {
     "name": "stderr",
     "output_type": "stream",
     "text": [
      "Building jupyterlab assets (production, minimized)\n"
     ]
    }
   ],
   "source": [
    "!jupyter labextension install plotlywidget"
   ]
  },
  {
   "cell_type": "code",
   "execution_count": 7,
   "id": "23ecc3e2-f08d-4b7e-a3d0-b5b7633cb6d7",
   "metadata": {},
   "outputs": [
    {
     "ename": "PlotlyRequestError",
     "evalue": "Authentication credentials were not provided.",
     "output_type": "error",
     "traceback": [
      "\u001b[1;31m---------------------------------------------------------------------------\u001b[0m",
      "\u001b[1;31mPlotlyRequestError\u001b[0m                        Traceback (most recent call last)",
      "\u001b[1;32m~\\AppData\\Local\\Temp/ipykernel_7556/1273973691.py\u001b[0m in \u001b[0;36m<module>\u001b[1;34m\u001b[0m\n\u001b[0;32m      9\u001b[0m \u001b[0mfig\u001b[0m\u001b[1;33m.\u001b[0m\u001b[0mupdate_xaxes\u001b[0m\u001b[1;33m(\u001b[0m\u001b[0mtitle_text\u001b[0m\u001b[1;33m=\u001b[0m\u001b[1;34m'GDP per Capita'\u001b[0m\u001b[1;33m,\u001b[0m \u001b[0mtype\u001b[0m\u001b[1;33m=\u001b[0m\u001b[1;34m'log'\u001b[0m\u001b[1;33m)\u001b[0m\u001b[1;33m\u001b[0m\u001b[1;33m\u001b[0m\u001b[0m\n\u001b[0;32m     10\u001b[0m \u001b[0mfig\u001b[0m\u001b[1;33m.\u001b[0m\u001b[0mupdate_yaxes\u001b[0m\u001b[1;33m(\u001b[0m\u001b[0mtitle_text\u001b[0m\u001b[1;33m=\u001b[0m\u001b[1;34m'Life Expectancy'\u001b[0m\u001b[1;33m)\u001b[0m\u001b[1;33m\u001b[0m\u001b[1;33m\u001b[0m\u001b[0m\n\u001b[1;32m---> 11\u001b[1;33m \u001b[0mpy\u001b[0m\u001b[1;33m.\u001b[0m\u001b[0miplot\u001b[0m\u001b[1;33m(\u001b[0m\u001b[0mfig\u001b[0m\u001b[1;33m,\u001b[0m \u001b[0mfilename\u001b[0m\u001b[1;33m=\u001b[0m\u001b[1;34m'pandas-multiple-scatter'\u001b[0m\u001b[1;33m)\u001b[0m\u001b[1;33m\u001b[0m\u001b[1;33m\u001b[0m\u001b[0m\n\u001b[0m",
      "\u001b[1;32mC:\\JupyterLab\\resources\\jlab_server\\lib\\site-packages\\chart_studio\\plotly\\plotly.py\u001b[0m in \u001b[0;36miplot\u001b[1;34m(figure_or_data, **plot_options)\u001b[0m\n\u001b[0;32m    133\u001b[0m     \u001b[1;32mif\u001b[0m \u001b[1;34m\"auto_open\"\u001b[0m \u001b[1;32mnot\u001b[0m \u001b[1;32min\u001b[0m \u001b[0mplot_options\u001b[0m\u001b[1;33m:\u001b[0m\u001b[1;33m\u001b[0m\u001b[1;33m\u001b[0m\u001b[0m\n\u001b[0;32m    134\u001b[0m         \u001b[0mplot_options\u001b[0m\u001b[1;33m[\u001b[0m\u001b[1;34m\"auto_open\"\u001b[0m\u001b[1;33m]\u001b[0m \u001b[1;33m=\u001b[0m \u001b[1;32mFalse\u001b[0m\u001b[1;33m\u001b[0m\u001b[1;33m\u001b[0m\u001b[0m\n\u001b[1;32m--> 135\u001b[1;33m     \u001b[0murl\u001b[0m \u001b[1;33m=\u001b[0m \u001b[0mplot\u001b[0m\u001b[1;33m(\u001b[0m\u001b[0mfigure_or_data\u001b[0m\u001b[1;33m,\u001b[0m \u001b[1;33m**\u001b[0m\u001b[0mplot_options\u001b[0m\u001b[1;33m)\u001b[0m\u001b[1;33m\u001b[0m\u001b[1;33m\u001b[0m\u001b[0m\n\u001b[0m\u001b[0;32m    136\u001b[0m \u001b[1;33m\u001b[0m\u001b[0m\n\u001b[0;32m    137\u001b[0m     \u001b[1;32mif\u001b[0m \u001b[0misinstance\u001b[0m\u001b[1;33m(\u001b[0m\u001b[0mfigure_or_data\u001b[0m\u001b[1;33m,\u001b[0m \u001b[0mdict\u001b[0m\u001b[1;33m)\u001b[0m\u001b[1;33m:\u001b[0m\u001b[1;33m\u001b[0m\u001b[1;33m\u001b[0m\u001b[0m\n",
      "\u001b[1;32mC:\\JupyterLab\\resources\\jlab_server\\lib\\site-packages\\chart_studio\\plotly\\plotly.py\u001b[0m in \u001b[0;36mplot\u001b[1;34m(figure_or_data, validate, **plot_options)\u001b[0m\n\u001b[0;32m    274\u001b[0m             \u001b[0mgrid_filename\u001b[0m \u001b[1;33m=\u001b[0m \u001b[0mfilename\u001b[0m \u001b[1;33m+\u001b[0m \u001b[1;34m\"_grid\"\u001b[0m\u001b[1;33m\u001b[0m\u001b[1;33m\u001b[0m\u001b[0m\n\u001b[0;32m    275\u001b[0m \u001b[1;33m\u001b[0m\u001b[0m\n\u001b[1;32m--> 276\u001b[1;33m         grid_ops.upload(\n\u001b[0m\u001b[0;32m    277\u001b[0m             \u001b[0mgrid\u001b[0m\u001b[1;33m=\u001b[0m\u001b[0mgrid\u001b[0m\u001b[1;33m,\u001b[0m\u001b[1;33m\u001b[0m\u001b[1;33m\u001b[0m\u001b[0m\n\u001b[0;32m    278\u001b[0m             \u001b[0mfilename\u001b[0m\u001b[1;33m=\u001b[0m\u001b[0mgrid_filename\u001b[0m\u001b[1;33m,\u001b[0m\u001b[1;33m\u001b[0m\u001b[1;33m\u001b[0m\u001b[0m\n",
      "\u001b[1;32mC:\\JupyterLab\\resources\\jlab_server\\lib\\site-packages\\chart_studio\\plotly\\plotly.py\u001b[0m in \u001b[0;36mupload\u001b[1;34m(cls, grid, filename, world_readable, auto_open, meta)\u001b[0m\n\u001b[0;32m   1085\u001b[0m                 \u001b[0mpayload\u001b[0m\u001b[1;33m[\u001b[0m\u001b[1;34m\"parent_path\"\u001b[0m\u001b[1;33m]\u001b[0m \u001b[1;33m=\u001b[0m \u001b[0mparent_path\u001b[0m\u001b[1;33m\u001b[0m\u001b[1;33m\u001b[0m\u001b[0m\n\u001b[0;32m   1086\u001b[0m \u001b[1;33m\u001b[0m\u001b[0m\n\u001b[1;32m-> 1087\u001b[1;33m         \u001b[0mfile_info\u001b[0m \u001b[1;33m=\u001b[0m \u001b[0m_create_or_overwrite_grid\u001b[0m\u001b[1;33m(\u001b[0m\u001b[0mpayload\u001b[0m\u001b[1;33m)\u001b[0m\u001b[1;33m\u001b[0m\u001b[1;33m\u001b[0m\u001b[0m\n\u001b[0m\u001b[0;32m   1088\u001b[0m \u001b[1;33m\u001b[0m\u001b[0m\n\u001b[0;32m   1089\u001b[0m         \u001b[0mcols\u001b[0m \u001b[1;33m=\u001b[0m \u001b[0mfile_info\u001b[0m\u001b[1;33m[\u001b[0m\u001b[1;34m\"cols\"\u001b[0m\u001b[1;33m]\u001b[0m\u001b[1;33m\u001b[0m\u001b[1;33m\u001b[0m\u001b[0m\n",
      "\u001b[1;32mC:\\JupyterLab\\resources\\jlab_server\\lib\\site-packages\\chart_studio\\plotly\\plotly.py\u001b[0m in \u001b[0;36m_create_or_overwrite_grid\u001b[1;34m(data, max_retries)\u001b[0m\n\u001b[0;32m   1548\u001b[0m     \u001b[1;31m# Create file\u001b[0m\u001b[1;33m\u001b[0m\u001b[1;33m\u001b[0m\u001b[1;33m\u001b[0m\u001b[0m\n\u001b[0;32m   1549\u001b[0m     \u001b[1;32mtry\u001b[0m\u001b[1;33m:\u001b[0m\u001b[1;33m\u001b[0m\u001b[1;33m\u001b[0m\u001b[0m\n\u001b[1;32m-> 1550\u001b[1;33m         \u001b[0mres\u001b[0m \u001b[1;33m=\u001b[0m \u001b[0mapi_module\u001b[0m\u001b[1;33m.\u001b[0m\u001b[0mcreate\u001b[0m\u001b[1;33m(\u001b[0m\u001b[0mdata\u001b[0m\u001b[1;33m)\u001b[0m\u001b[1;33m\u001b[0m\u001b[1;33m\u001b[0m\u001b[0m\n\u001b[0m\u001b[0;32m   1551\u001b[0m     \u001b[1;32mexcept\u001b[0m \u001b[0mexceptions\u001b[0m\u001b[1;33m.\u001b[0m\u001b[0mPlotlyRequestError\u001b[0m \u001b[1;32mas\u001b[0m \u001b[0me\u001b[0m\u001b[1;33m:\u001b[0m\u001b[1;33m\u001b[0m\u001b[1;33m\u001b[0m\u001b[0m\n\u001b[0;32m   1552\u001b[0m         \u001b[1;32mif\u001b[0m \u001b[0mmax_retries\u001b[0m \u001b[1;33m>\u001b[0m \u001b[1;36m0\u001b[0m \u001b[1;32mand\u001b[0m \u001b[1;34m\"already exists\"\u001b[0m \u001b[1;32min\u001b[0m \u001b[0me\u001b[0m\u001b[1;33m.\u001b[0m\u001b[0mmessage\u001b[0m\u001b[1;33m:\u001b[0m\u001b[1;33m\u001b[0m\u001b[1;33m\u001b[0m\u001b[0m\n",
      "\u001b[1;32mC:\\JupyterLab\\resources\\jlab_server\\lib\\site-packages\\chart_studio\\api\\v2\\grids.py\u001b[0m in \u001b[0;36mcreate\u001b[1;34m(body)\u001b[0m\n\u001b[0;32m     16\u001b[0m     \"\"\"\n\u001b[0;32m     17\u001b[0m     \u001b[0murl\u001b[0m \u001b[1;33m=\u001b[0m \u001b[0mbuild_url\u001b[0m\u001b[1;33m(\u001b[0m\u001b[0mRESOURCE\u001b[0m\u001b[1;33m)\u001b[0m\u001b[1;33m\u001b[0m\u001b[1;33m\u001b[0m\u001b[0m\n\u001b[1;32m---> 18\u001b[1;33m     \u001b[1;32mreturn\u001b[0m \u001b[0mrequest\u001b[0m\u001b[1;33m(\u001b[0m\u001b[1;34m\"post\"\u001b[0m\u001b[1;33m,\u001b[0m \u001b[0murl\u001b[0m\u001b[1;33m,\u001b[0m \u001b[0mjson\u001b[0m\u001b[1;33m=\u001b[0m\u001b[0mbody\u001b[0m\u001b[1;33m)\u001b[0m\u001b[1;33m\u001b[0m\u001b[1;33m\u001b[0m\u001b[0m\n\u001b[0m\u001b[0;32m     19\u001b[0m \u001b[1;33m\u001b[0m\u001b[0m\n\u001b[0;32m     20\u001b[0m \u001b[1;33m\u001b[0m\u001b[0m\n",
      "\u001b[1;32mC:\\JupyterLab\\resources\\jlab_server\\lib\\site-packages\\retrying.py\u001b[0m in \u001b[0;36mwrapped_f\u001b[1;34m(*args, **kw)\u001b[0m\n\u001b[0;32m     47\u001b[0m             \u001b[1;33m@\u001b[0m\u001b[0msix\u001b[0m\u001b[1;33m.\u001b[0m\u001b[0mwraps\u001b[0m\u001b[1;33m(\u001b[0m\u001b[0mf\u001b[0m\u001b[1;33m)\u001b[0m\u001b[1;33m\u001b[0m\u001b[1;33m\u001b[0m\u001b[0m\n\u001b[0;32m     48\u001b[0m             \u001b[1;32mdef\u001b[0m \u001b[0mwrapped_f\u001b[0m\u001b[1;33m(\u001b[0m\u001b[1;33m*\u001b[0m\u001b[0margs\u001b[0m\u001b[1;33m,\u001b[0m \u001b[1;33m**\u001b[0m\u001b[0mkw\u001b[0m\u001b[1;33m)\u001b[0m\u001b[1;33m:\u001b[0m\u001b[1;33m\u001b[0m\u001b[1;33m\u001b[0m\u001b[0m\n\u001b[1;32m---> 49\u001b[1;33m                 \u001b[1;32mreturn\u001b[0m \u001b[0mRetrying\u001b[0m\u001b[1;33m(\u001b[0m\u001b[1;33m*\u001b[0m\u001b[0mdargs\u001b[0m\u001b[1;33m,\u001b[0m \u001b[1;33m**\u001b[0m\u001b[0mdkw\u001b[0m\u001b[1;33m)\u001b[0m\u001b[1;33m.\u001b[0m\u001b[0mcall\u001b[0m\u001b[1;33m(\u001b[0m\u001b[0mf\u001b[0m\u001b[1;33m,\u001b[0m \u001b[1;33m*\u001b[0m\u001b[0margs\u001b[0m\u001b[1;33m,\u001b[0m \u001b[1;33m**\u001b[0m\u001b[0mkw\u001b[0m\u001b[1;33m)\u001b[0m\u001b[1;33m\u001b[0m\u001b[1;33m\u001b[0m\u001b[0m\n\u001b[0m\u001b[0;32m     50\u001b[0m \u001b[1;33m\u001b[0m\u001b[0m\n\u001b[0;32m     51\u001b[0m             \u001b[1;32mreturn\u001b[0m \u001b[0mwrapped_f\u001b[0m\u001b[1;33m\u001b[0m\u001b[1;33m\u001b[0m\u001b[0m\n",
      "\u001b[1;32mC:\\JupyterLab\\resources\\jlab_server\\lib\\site-packages\\retrying.py\u001b[0m in \u001b[0;36mcall\u001b[1;34m(self, fn, *args, **kwargs)\u001b[0m\n\u001b[0;32m    204\u001b[0m \u001b[1;33m\u001b[0m\u001b[0m\n\u001b[0;32m    205\u001b[0m             \u001b[1;32mif\u001b[0m \u001b[1;32mnot\u001b[0m \u001b[0mself\u001b[0m\u001b[1;33m.\u001b[0m\u001b[0mshould_reject\u001b[0m\u001b[1;33m(\u001b[0m\u001b[0mattempt\u001b[0m\u001b[1;33m)\u001b[0m\u001b[1;33m:\u001b[0m\u001b[1;33m\u001b[0m\u001b[1;33m\u001b[0m\u001b[0m\n\u001b[1;32m--> 206\u001b[1;33m                 \u001b[1;32mreturn\u001b[0m \u001b[0mattempt\u001b[0m\u001b[1;33m.\u001b[0m\u001b[0mget\u001b[0m\u001b[1;33m(\u001b[0m\u001b[0mself\u001b[0m\u001b[1;33m.\u001b[0m\u001b[0m_wrap_exception\u001b[0m\u001b[1;33m)\u001b[0m\u001b[1;33m\u001b[0m\u001b[1;33m\u001b[0m\u001b[0m\n\u001b[0m\u001b[0;32m    207\u001b[0m \u001b[1;33m\u001b[0m\u001b[0m\n\u001b[0;32m    208\u001b[0m             \u001b[0mdelay_since_first_attempt_ms\u001b[0m \u001b[1;33m=\u001b[0m \u001b[0mint\u001b[0m\u001b[1;33m(\u001b[0m\u001b[0mround\u001b[0m\u001b[1;33m(\u001b[0m\u001b[0mtime\u001b[0m\u001b[1;33m.\u001b[0m\u001b[0mtime\u001b[0m\u001b[1;33m(\u001b[0m\u001b[1;33m)\u001b[0m \u001b[1;33m*\u001b[0m \u001b[1;36m1000\u001b[0m\u001b[1;33m)\u001b[0m\u001b[1;33m)\u001b[0m \u001b[1;33m-\u001b[0m \u001b[0mstart_time\u001b[0m\u001b[1;33m\u001b[0m\u001b[1;33m\u001b[0m\u001b[0m\n",
      "\u001b[1;32mC:\\JupyterLab\\resources\\jlab_server\\lib\\site-packages\\retrying.py\u001b[0m in \u001b[0;36mget\u001b[1;34m(self, wrap_exception)\u001b[0m\n\u001b[0;32m    245\u001b[0m                 \u001b[1;32mraise\u001b[0m \u001b[0mRetryError\u001b[0m\u001b[1;33m(\u001b[0m\u001b[0mself\u001b[0m\u001b[1;33m)\u001b[0m\u001b[1;33m\u001b[0m\u001b[1;33m\u001b[0m\u001b[0m\n\u001b[0;32m    246\u001b[0m             \u001b[1;32melse\u001b[0m\u001b[1;33m:\u001b[0m\u001b[1;33m\u001b[0m\u001b[1;33m\u001b[0m\u001b[0m\n\u001b[1;32m--> 247\u001b[1;33m                 \u001b[0msix\u001b[0m\u001b[1;33m.\u001b[0m\u001b[0mreraise\u001b[0m\u001b[1;33m(\u001b[0m\u001b[0mself\u001b[0m\u001b[1;33m.\u001b[0m\u001b[0mvalue\u001b[0m\u001b[1;33m[\u001b[0m\u001b[1;36m0\u001b[0m\u001b[1;33m]\u001b[0m\u001b[1;33m,\u001b[0m \u001b[0mself\u001b[0m\u001b[1;33m.\u001b[0m\u001b[0mvalue\u001b[0m\u001b[1;33m[\u001b[0m\u001b[1;36m1\u001b[0m\u001b[1;33m]\u001b[0m\u001b[1;33m,\u001b[0m \u001b[0mself\u001b[0m\u001b[1;33m.\u001b[0m\u001b[0mvalue\u001b[0m\u001b[1;33m[\u001b[0m\u001b[1;36m2\u001b[0m\u001b[1;33m]\u001b[0m\u001b[1;33m)\u001b[0m\u001b[1;33m\u001b[0m\u001b[1;33m\u001b[0m\u001b[0m\n\u001b[0m\u001b[0;32m    248\u001b[0m         \u001b[1;32melse\u001b[0m\u001b[1;33m:\u001b[0m\u001b[1;33m\u001b[0m\u001b[1;33m\u001b[0m\u001b[0m\n\u001b[0;32m    249\u001b[0m             \u001b[1;32mreturn\u001b[0m \u001b[0mself\u001b[0m\u001b[1;33m.\u001b[0m\u001b[0mvalue\u001b[0m\u001b[1;33m\u001b[0m\u001b[1;33m\u001b[0m\u001b[0m\n",
      "\u001b[1;32mC:\\JupyterLab\\resources\\jlab_server\\lib\\site-packages\\six.py\u001b[0m in \u001b[0;36mreraise\u001b[1;34m(tp, value, tb)\u001b[0m\n\u001b[0;32m    717\u001b[0m             \u001b[1;32mif\u001b[0m \u001b[0mvalue\u001b[0m\u001b[1;33m.\u001b[0m\u001b[0m__traceback__\u001b[0m \u001b[1;32mis\u001b[0m \u001b[1;32mnot\u001b[0m \u001b[0mtb\u001b[0m\u001b[1;33m:\u001b[0m\u001b[1;33m\u001b[0m\u001b[1;33m\u001b[0m\u001b[0m\n\u001b[0;32m    718\u001b[0m                 \u001b[1;32mraise\u001b[0m \u001b[0mvalue\u001b[0m\u001b[1;33m.\u001b[0m\u001b[0mwith_traceback\u001b[0m\u001b[1;33m(\u001b[0m\u001b[0mtb\u001b[0m\u001b[1;33m)\u001b[0m\u001b[1;33m\u001b[0m\u001b[1;33m\u001b[0m\u001b[0m\n\u001b[1;32m--> 719\u001b[1;33m             \u001b[1;32mraise\u001b[0m \u001b[0mvalue\u001b[0m\u001b[1;33m\u001b[0m\u001b[1;33m\u001b[0m\u001b[0m\n\u001b[0m\u001b[0;32m    720\u001b[0m         \u001b[1;32mfinally\u001b[0m\u001b[1;33m:\u001b[0m\u001b[1;33m\u001b[0m\u001b[1;33m\u001b[0m\u001b[0m\n\u001b[0;32m    721\u001b[0m             \u001b[0mvalue\u001b[0m \u001b[1;33m=\u001b[0m \u001b[1;32mNone\u001b[0m\u001b[1;33m\u001b[0m\u001b[1;33m\u001b[0m\u001b[0m\n",
      "\u001b[1;32mC:\\JupyterLab\\resources\\jlab_server\\lib\\site-packages\\retrying.py\u001b[0m in \u001b[0;36mcall\u001b[1;34m(self, fn, *args, **kwargs)\u001b[0m\n\u001b[0;32m    198\u001b[0m         \u001b[1;32mwhile\u001b[0m \u001b[1;32mTrue\u001b[0m\u001b[1;33m:\u001b[0m\u001b[1;33m\u001b[0m\u001b[1;33m\u001b[0m\u001b[0m\n\u001b[0;32m    199\u001b[0m             \u001b[1;32mtry\u001b[0m\u001b[1;33m:\u001b[0m\u001b[1;33m\u001b[0m\u001b[1;33m\u001b[0m\u001b[0m\n\u001b[1;32m--> 200\u001b[1;33m                 \u001b[0mattempt\u001b[0m \u001b[1;33m=\u001b[0m \u001b[0mAttempt\u001b[0m\u001b[1;33m(\u001b[0m\u001b[0mfn\u001b[0m\u001b[1;33m(\u001b[0m\u001b[1;33m*\u001b[0m\u001b[0margs\u001b[0m\u001b[1;33m,\u001b[0m \u001b[1;33m**\u001b[0m\u001b[0mkwargs\u001b[0m\u001b[1;33m)\u001b[0m\u001b[1;33m,\u001b[0m \u001b[0mattempt_number\u001b[0m\u001b[1;33m,\u001b[0m \u001b[1;32mFalse\u001b[0m\u001b[1;33m)\u001b[0m\u001b[1;33m\u001b[0m\u001b[1;33m\u001b[0m\u001b[0m\n\u001b[0m\u001b[0;32m    201\u001b[0m             \u001b[1;32mexcept\u001b[0m\u001b[1;33m:\u001b[0m\u001b[1;33m\u001b[0m\u001b[1;33m\u001b[0m\u001b[0m\n\u001b[0;32m    202\u001b[0m                 \u001b[0mtb\u001b[0m \u001b[1;33m=\u001b[0m \u001b[0msys\u001b[0m\u001b[1;33m.\u001b[0m\u001b[0mexc_info\u001b[0m\u001b[1;33m(\u001b[0m\u001b[1;33m)\u001b[0m\u001b[1;33m\u001b[0m\u001b[1;33m\u001b[0m\u001b[0m\n",
      "\u001b[1;32mC:\\JupyterLab\\resources\\jlab_server\\lib\\site-packages\\chart_studio\\api\\v2\\utils.py\u001b[0m in \u001b[0;36mrequest\u001b[1;34m(method, url, **kwargs)\u001b[0m\n\u001b[0;32m    178\u001b[0m         \u001b[0mcontent\u001b[0m \u001b[1;33m=\u001b[0m \u001b[0mresponse\u001b[0m\u001b[1;33m.\u001b[0m\u001b[0mcontent\u001b[0m \u001b[1;32mif\u001b[0m \u001b[0mresponse\u001b[0m \u001b[1;32melse\u001b[0m \u001b[1;34m\"No content\"\u001b[0m\u001b[1;33m\u001b[0m\u001b[1;33m\u001b[0m\u001b[0m\n\u001b[0;32m    179\u001b[0m         \u001b[1;32mraise\u001b[0m \u001b[0mexceptions\u001b[0m\u001b[1;33m.\u001b[0m\u001b[0mPlotlyRequestError\u001b[0m\u001b[1;33m(\u001b[0m\u001b[0mmessage\u001b[0m\u001b[1;33m,\u001b[0m \u001b[0mstatus_code\u001b[0m\u001b[1;33m,\u001b[0m \u001b[0mcontent\u001b[0m\u001b[1;33m)\u001b[0m\u001b[1;33m\u001b[0m\u001b[1;33m\u001b[0m\u001b[0m\n\u001b[1;32m--> 180\u001b[1;33m     \u001b[0mvalidate_response\u001b[0m\u001b[1;33m(\u001b[0m\u001b[0mresponse\u001b[0m\u001b[1;33m)\u001b[0m\u001b[1;33m\u001b[0m\u001b[1;33m\u001b[0m\u001b[0m\n\u001b[0m\u001b[0;32m    181\u001b[0m     \u001b[1;32mreturn\u001b[0m \u001b[0mresponse\u001b[0m\u001b[1;33m\u001b[0m\u001b[1;33m\u001b[0m\u001b[0m\n",
      "\u001b[1;32mC:\\JupyterLab\\resources\\jlab_server\\lib\\site-packages\\chart_studio\\api\\v2\\utils.py\u001b[0m in \u001b[0;36mvalidate_response\u001b[1;34m(response)\u001b[0m\n\u001b[0;32m     80\u001b[0m         \u001b[0mmessage\u001b[0m \u001b[1;33m=\u001b[0m \u001b[0mcontent\u001b[0m \u001b[1;32mif\u001b[0m \u001b[0mcontent\u001b[0m \u001b[1;32melse\u001b[0m \u001b[1;34m\"No Content\"\u001b[0m\u001b[1;33m\u001b[0m\u001b[1;33m\u001b[0m\u001b[0m\n\u001b[0;32m     81\u001b[0m \u001b[1;33m\u001b[0m\u001b[0m\n\u001b[1;32m---> 82\u001b[1;33m     \u001b[1;32mraise\u001b[0m \u001b[0mexceptions\u001b[0m\u001b[1;33m.\u001b[0m\u001b[0mPlotlyRequestError\u001b[0m\u001b[1;33m(\u001b[0m\u001b[0mmessage\u001b[0m\u001b[1;33m,\u001b[0m \u001b[0mstatus_code\u001b[0m\u001b[1;33m,\u001b[0m \u001b[0mcontent\u001b[0m\u001b[1;33m)\u001b[0m\u001b[1;33m\u001b[0m\u001b[1;33m\u001b[0m\u001b[0m\n\u001b[0m\u001b[0;32m     83\u001b[0m \u001b[1;33m\u001b[0m\u001b[0m\n\u001b[0;32m     84\u001b[0m \u001b[1;33m\u001b[0m\u001b[0m\n",
      "\u001b[1;31mPlotlyRequestError\u001b[0m: Authentication credentials were not provided."
     ]
    }
   ],
   "source": [
    "import chart_studio.plotly as py\n",
    "import plotly.graph_objects as go\n",
    "from plotly.offline import iplot\n",
    "import pandas as pd\n",
    "\n",
    "df = pd.read_csv('https://raw.githubusercontent.com/plotly/datasets/master/gapminder2007.csv')\n",
    "\n",
    "fig = go.Figure(go.Scatter(x=df.gdpPercap, y=df.lifeExp, text=df.country, mode='markers', name='2007'))\n",
    "fig.update_xaxes(title_text='GDP per Capita', type='log')\n",
    "fig.update_yaxes(title_text='Life Expectancy')\n",
    "py.iplot(fig, filename='pandas-multiple-scatter')"
   ]
  },
  {
   "cell_type": "code",
   "execution_count": null,
   "id": "8985ef7b-5f85-4578-9126-452ac185e9d3",
   "metadata": {},
   "outputs": [],
   "source": []
  }
 ],
 "metadata": {
  "kernelspec": {
   "display_name": "kyleschool",
   "language": "python",
   "name": "kyleschool"
  },
  "language_info": {
   "codemirror_mode": {
    "name": "ipython",
    "version": 3
   },
   "file_extension": ".py",
   "mimetype": "text/x-python",
   "name": "python",
   "nbconvert_exporter": "python",
   "pygments_lexer": "ipython3",
   "version": "3.8.12"
  }
 },
 "nbformat": 4,
 "nbformat_minor": 5
}
